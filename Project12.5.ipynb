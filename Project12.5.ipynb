{
 "cells": [
  {
   "cell_type": "markdown",
   "metadata": {},
   "source": [
    "# Understanding Hired Rides in NYC\n",
    "\n",
    "_[Project prompt](https://docs.google.com/document/d/1VERPjEZcC1XSs4-02aM-DbkNr_yaJVbFjLJxaYQswqA/edit#)_\n"
   ]
  },
  {
   "cell_type": "markdown",
   "metadata": {},
   "source": [
    "### By Zhonghao Wang and Yanyi Wang"
   ]
  },
  {
   "cell_type": "markdown",
   "metadata": {},
   "source": [
    " This part we are setting up the notebook by importing necessary libraries and installing packages"
   ]
  },
  {
   "cell_type": "markdown",
   "metadata": {},
   "source": [
    "## Requirements\n",
    "\n",
    "_A checklist of requirements to keep you on track. Remove this whole cell before submitting the project._\n",
    "\n",
    "* Code clarity: make sure the code conforms to:\n",
    "    * [ ] [PEP 8](https://peps.python.org/pep-0008/) - You might find [this resource](https://realpython.com/python-pep8/) helpful as well as [this](https://github.com/dnanhkhoa/nb_black) or [this](https://jupyterlab-code-formatter.readthedocs.io/en/latest/) tool\n",
    "    * [ ] [PEP 257](https://peps.python.org/pep-0257/)\n",
    "    * [ ] Break each task down into logical functions\n",
    "* The following files are submitted for the project (see the project's GDoc for more details):\n",
    "    * [ ] `README.md`\n",
    "    * [ ] `requirements.txt`\n",
    "    * [ ] `.gitignore`\n",
    "    * [ ] `schema.sql`\n",
    "    * [ ] 6 query files (using the `.sql` extension), appropriately named for the purpose of the query\n",
    "    * [x] Jupyter Notebook containing the project (this file!)\n",
    "* [x] You can edit this cell and add a `x` inside the `[ ]` like this task to denote a completed task"
   ]
  },
  {
   "cell_type": "markdown",
   "metadata": {},
   "source": [
    "## Project Setup"
   ]
  },
  {
   "cell_type": "code",
   "execution_count": 2,
   "metadata": {},
   "outputs": [],
   "source": [
    "#pip install "
   ]
  },
  {
   "cell_type": "code",
   "execution_count": 361,
   "metadata": {},
   "outputs": [],
   "source": [
    "# all import statements needed for the project:\n",
    "\n",
    "import math\n",
    "import bs4\n",
    "import matplotlib.pyplot as plt\n",
    "import numpy as np\n",
    "import pandas as pd\n",
    "import geopandas as gpd\n",
    "import requests\n",
    "import sqlalchemy as db\n",
    "import re\n",
    "import os\n",
    "import glob\n",
    "import stat\n",
    "import scipy.stats as st"
   ]
  },
  {
   "cell_type": "code",
   "execution_count": 354,
   "metadata": {},
   "outputs": [],
   "source": [
    "#Global Variables needed for the projects:\n",
    "\n",
    "TAXI_URL = \"https://www1.nyc.gov/site/tlc/about/tlc-trip-record-data.page\"\n",
    "TAXI_ZONES = \"taxi_zones/taxi_zones.shp\"\n",
    "# add other constants to refer to any local data, e.g. uber & weather\n",
    "UBER_CSV = \"uber_rides_sample.csv\"\n",
    "WEATHER_PATH = \"weather\"\n",
    "NEW_YORK_BOX_COORDS = ((40.560445, -74.242330), (40.908524, -73.717047))\n",
    "DATABASE_URL = \"sqlite:///project.db\"\n",
    "DATABASE_SCHEMA_FILE = \"schema.sql\"\n",
    "QUERY_DIRECTORY = \"queries\""
   ]
  },
  {
   "cell_type": "code",
   "execution_count": 355,
   "metadata": {},
   "outputs": [
    {
     "name": "stderr",
     "output_type": "stream",
     "text": [
      "<ipython-input-355-526e611d6b4f>:3: UserWarning: Geometry is in a geographic CRS. Results from 'centroid' are likely incorrect. Use 'GeoSeries.to_crs()' to re-project geometries to a projected CRS before this operation.\n",
      "\n",
      "  taxi_zones_df['lon'] = taxi_zones_df.centroid.x\n",
      "<ipython-input-355-526e611d6b4f>:4: UserWarning: Geometry is in a geographic CRS. Results from 'centroid' are likely incorrect. Use 'GeoSeries.to_crs()' to re-project geometries to a projected CRS before this operation.\n",
      "\n",
      "  taxi_zones_df['lat'] = taxi_zones_df.centroid.y\n"
     ]
    }
   ],
   "source": [
    "taxi_zones_df = gpd.read_file(TAXI_ZONES)\n",
    "taxi_zones_df = taxi_zones_df.to_crs(4326)\n",
    "taxi_zones_df['lon'] = taxi_zones_df.centroid.x  \n",
    "taxi_zones_df['lat'] = taxi_zones_df.centroid.y"
   ]
  },
  {
   "cell_type": "markdown",
   "metadata": {},
   "source": [
    "* [ ] Weather & Uber data:\n",
    "    * [ ] Download the data manually in the link provided in the project doc.\n",
    "* [ ] All data:\n",
    "    * [ ] Load the data using `pandas`\n",
    "    * [ ] Clean the data, including:\n",
    "        * Remove unnecessary columns\n",
    "        * Remove invalid data points (take a moment to consider what's invalid)\n",
    "        * Normalize column names\n",
    "        * (Taxi & Uber data) Remove trips that start and/or end outside the designated [coordinate box](http://bboxfinder.com/#40.560445,-74.242330,40.908524,-73.717047)\n",
    "    * [ ] (Taxi data) Sample the data so that you have roughly the same amount of data points over the given date range for both Taxi data and Uber data.\n",
    "* [ ] Weather data:\n",
    "    * [ ] Split into two `pandas` DataFrames: one for required hourly data, and one for the required daily daya.\n",
    "    * [ ] You may find that the weather data you need later on does not exist at the frequency needed (daily vs hourly). You may calculate/generate samples from one to populate the other. Just document what you’re doing so we can follow along. "
   ]
  },
  {
   "cell_type": "markdown",
   "metadata": {},
   "source": [
    "## Part 1: Data Preprocessing"
   ]
  },
  {
   "cell_type": "markdown",
   "metadata": {},
   "source": [
    "In part 1 we \n",
    "1. Calculates the distance between two coordinates in kilometers\n",
    "2. Download all yellow taxi trip data from nyc government webiste using web scraping.\n",
    "3. Load and clean the yellow taxi data for each month from 2009/01 to 2015/06\n",
    "4. Load and clean the uber data.\n",
    "5. Load and clean the weather data from 2009 to 2015."
   ]
  },
  {
   "cell_type": "markdown",
   "metadata": {},
   "source": [
    "### Calculating distance\n",
    "We defined a function that calculates the distance between two coordinates in kilometers that using latitude and lontitue corrdination. "
   ]
  },
  {
   "cell_type": "code",
   "execution_count": 5,
   "metadata": {},
   "outputs": [],
   "source": [
    "def calculate_distance(from_coord, to_coord):\n",
    "    # convert longitude and latitude to radian\n",
    "    lon1, lat1, lon2, lat2 = map(math.radians, from_coord+to_coord) \n",
    "    dlon=lon2-lon1\n",
    "    dlat=lat2-lat1\n",
    "    a=math.sin(dlat/2)**2 + math.cos(lat1) * math.cos(lat2) * math.sin(dlon/2)**2\n",
    "    distance=2*math.asin(math.sqrt(a))* 6371*1000\n",
    "    distance=round(distance/1000,3)\n",
    "    return distance"
   ]
  },
  {
   "cell_type": "markdown",
   "metadata": {},
   "source": [
    "### Create a new column \n",
    "We defined a function that create a new column called distance in the dataframe and calculated distance for \n",
    "each row in the dataframe for columns that contain pickup latitude lontitude and drop off lat and lon.The result distance will be the distance in kilometers between pick up coordination and drop off coordination"
   ]
  },
  {
   "cell_type": "code",
   "execution_count": 266,
   "metadata": {},
   "outputs": [],
   "source": [
    "def add_distance_column(dataframe):\n",
    "    dataframe['distance'] = dataframe.apply(lambda x: calculate_distance((\n",
    "        x['pickup_longitude'], x['pickup_latitude']), (x['dropoff_longitude'], x['dropoff_latitude'])), axis=1)\n",
    "    return dataframe"
   ]
  },
  {
   "cell_type": "markdown",
   "metadata": {},
   "source": [
    "### Processing Taxi Data\n",
    "1. We use request to scrap the webiste of nyc govnment to get Yellow Taxi Trip Records data by first get all links of data for each month from 2009/01 to 2015/06 by find_taxi_parquet_urls(taxi_url) funciton \n",
    "2. After we get all the links for data, we used get_month_taxi_data(taxi_data_url) to download all the taxt data      files\n",
    "3. We clean the data for each month by removing unnecessary columns, renaming some columns and delete some trips      that are not of our interest by clean_month_taxi_data(raw_taxi_data,taxi_zones) function\n",
    "4. get_and_clean_taxi_data() is getting the cleaned taxt data we are going to use for later parts of the project,    we also did some sampling to match the number of data with Uber date we are going to use next."
   ]
  },
  {
   "cell_type": "code",
   "execution_count": 267,
   "metadata": {},
   "outputs": [],
   "source": [
    "def find_taxi_parquet_urls(taxi_url):\n",
    "    response = requests.get(taxi_url)\n",
    "    html = response.content\n",
    "    results_page = bs4.BeautifulSoup(html, 'html.parser')\n",
    "    links = results_page.find_all('a',title=r'Yellow Taxi Trip Records')\n",
    "    pattern = r'yellow_tripdata_(2009|201[0-4]|2015-0[1-6])'\n",
    "    urls = [link.get('href') for link in links if re.search(pattern,link.get('href'))]\n",
    "    return urls"
   ]
  },
  {
   "cell_type": "code",
   "execution_count": 268,
   "metadata": {},
   "outputs": [],
   "source": [
    "def get_month_taxi_data(taxi_data_url):\n",
    "    pattern = r'yellow_tripdata_[0-9]{4}-[0-9]{2}'\n",
    "    name = re.search(pattern,taxi_data_url).group()\n",
    "    path = os.path.join(os.getcwd(),'sample_taxi',name+'.csv')\n",
    "    if os.path.exists(path):\n",
    "        print('read',name)\n",
    "        df = pd.read_csv(path)\n",
    "    else:\n",
    "        print('download',name)\n",
    "        df = pd.read_parquet(taxi_data_url, engine='pyarrow')\n",
    "        df.to_csv(path)\n",
    "    return df"
   ]
  },
  {
   "cell_type": "code",
   "execution_count": 281,
   "metadata": {},
   "outputs": [],
   "source": [
    "def clean_month_taxi_data(raw_taxi_data,taxi_zones):\n",
    "    taxi_data = pd.DataFrame()\n",
    "    if 'tpep_pickup_datetime' in raw_taxi_data.columns:\n",
    "        taxi_data['pickup_datetime'] = raw_taxi_data['tpep_pickup_datetime']\n",
    "    elif 'Trip_Pickup_DateTime' in raw_taxi_data.columns:\n",
    "        taxi_data['pickup_datetime'] = raw_taxi_data['Trip_Pickup_DateTime']\n",
    "    elif 'pickup_datetime' in raw_taxi_data.columns:\n",
    "        taxi_data['pickup_datetime'] = raw_taxi_data['pickup_datetime']\n",
    "    else:\n",
    "        raise ValueError('No pickup_datetime')\n",
    "    if 'PULocationID' and 'DOLocationID' in raw_taxi_data.columns:\n",
    "        taxi_data['PULocationID'] = raw_taxi_data['PULocationID']\n",
    "        taxi_data['DOLocationID'] = raw_taxi_data['DOLocationID']\n",
    "        taxi_data = taxi_data.merge(taxi_zones[['LocationID','lon','lat']].set_index('LocationID'),\n",
    "                                    left_on='PULocationID', right_on='LocationID')\n",
    "        taxi_data = taxi_data.rename(columns={'lon': 'pickup_longitude', 'lat': 'pickup_latitude'})\n",
    "        taxi_data = taxi_data.merge(taxi_zones[['LocationID','lon','lat']].set_index('LocationID'),\n",
    "                                    left_on='DOLocationID', right_on='LocationID')\n",
    "        taxi_data = taxi_data.rename(columns={'lon': 'dropoff_longitude', 'lat': 'dropoff_latitude'})\n",
    "\n",
    "        taxi_data = taxi_data.drop(columns=['PULocationID','DOLocationID'])\n",
    "    elif 'Start_Lon' and 'Start_Lat' and 'End_Lon' and 'End_Lat' in raw_taxi_data.columns:\n",
    "        taxi_data['pickup_longitude'] = raw_taxi_data['Start_Lon']\n",
    "        taxi_data['pickup_latitude'] = raw_taxi_data['Start_Lat']\n",
    "        taxi_data['dropoff_longitude'] = raw_taxi_data['End_Lon']\n",
    "        taxi_data['dropoff_latitude'] = raw_taxi_data['End_Lat']\n",
    "    elif 'pickup_longitude' and 'pickup_latitude' and 'dropoff_longitude' and 'dropoff_latitude' in raw_taxi_data.columns:\n",
    "        taxi_data['pickup_longitude'] = raw_taxi_data['pickup_longitude']\n",
    "        taxi_data['pickup_latitude'] = raw_taxi_data['pickup_latitude']\n",
    "        taxi_data['dropoff_longitude'] = raw_taxi_data['dropoff_longitude']\n",
    "        taxi_data['dropoff_latitude'] = raw_taxi_data['dropoff_latitude']\n",
    "    else:\n",
    "        raise ValueError('No pickup_datetime')\n",
    "\n",
    "    taxi_data['pickup_datetime'] = pd.to_datetime(taxi_data['pickup_datetime'])\n",
    "    taxi_data = taxi_data.dropna()\n",
    "    \n",
    "    \n",
    "    #pick up in bounding box \n",
    "    taxi_data = taxi_data[(taxi_data['pickup_longitude']>NEW_YORK_BOX_COORDS[0][1])\n",
    "                          & (taxi_data['pickup_longitude']<NEW_YORK_BOX_COORDS[1][1])]\n",
    "    taxi_data = taxi_data[(taxi_data['pickup_latitude']>NEW_YORK_BOX_COORDS[0][0])\n",
    "                          & (taxi_data['pickup_latitude']<NEW_YORK_BOX_COORDS[1][0])]\n",
    "    #drop off in bounding box  \n",
    "    taxi_data = taxi_data[(taxi_data['dropoff_longitude']>NEW_YORK_BOX_COORDS[0][1])\n",
    "                          & (taxi_data['dropoff_longitude']<NEW_YORK_BOX_COORDS[1][1])]\n",
    "    taxi_data = taxi_data[(taxi_data['dropoff_latitude']>NEW_YORK_BOX_COORDS[0][0])\n",
    "                          & (taxi_data['dropoff_latitude']<NEW_YORK_BOX_COORDS[1][0])]\n",
    "    if 'Tip_Amt'  in raw_taxi_data.columns:\n",
    "        taxi_data['tip_amount'] = raw_taxi_data['Tip_Amt']\n",
    "       \n",
    "        \n",
    "    elif  'tip_amount' in raw_taxi_data.columns:\n",
    "         taxi_data['tip_amount'] = raw_taxi_data['tip_amount']\n",
    "    \n",
    "    return taxi_data"
   ]
  },
  {
   "cell_type": "code",
   "execution_count": 282,
   "metadata": {},
   "outputs": [],
   "source": [
    "def get_and_clean_taxi_data(taxi_zones):\n",
    "    all_csv_urls = find_taxi_parquet_urls(TAXI_URL)\n",
    "    all_taxi_dataframes = []\n",
    "    for csv_url in all_csv_urls:\n",
    "        month_taxi_dataframe = get_month_taxi_data(csv_url)\n",
    "        month_taxi_dataframe = clean_month_taxi_data(month_taxi_dataframe,taxi_zones)\n",
    "        month_taxi_dataframe = add_distance_column(month_taxi_dataframe)\n",
    "        all_taxi_dataframes.append(month_taxi_dataframe)\n",
    "        \n",
    "    # create one gigantic dataframe with data from every month needed\n",
    "    all_taxi_data = pd.concat(all_taxi_dataframes)\n",
    "    all_taxi_data = all_taxi_data.sample(200000,random_state=1)\n",
    "    return all_taxi_data"
   ]
  },
  {
   "cell_type": "markdown",
   "metadata": {},
   "source": [
    "Get all the taxi_data in a dataframe by calling function we defined above"
   ]
  },
  {
   "cell_type": "code",
   "execution_count": 283,
   "metadata": {},
   "outputs": [
    {
     "name": "stderr",
     "output_type": "stream",
     "text": [
      "<ipython-input-282-064c97ab5fac>:5: UserWarning: Geometry is in a geographic CRS. Results from 'centroid' are likely incorrect. Use 'GeoSeries.to_crs()' to re-project geometries to a projected CRS before this operation.\n",
      "\n",
      "  taxi_zone_df['lon'] = taxi_zone_df.centroid.x\n",
      "<ipython-input-282-064c97ab5fac>:6: UserWarning: Geometry is in a geographic CRS. Results from 'centroid' are likely incorrect. Use 'GeoSeries.to_crs()' to re-project geometries to a projected CRS before this operation.\n",
      "\n",
      "  taxi_zone_df['lat'] = taxi_zone_df.centroid.y\n"
     ]
    },
    {
     "name": "stdout",
     "output_type": "stream",
     "text": [
      "read yellow_tripdata_2015-01\n",
      "read yellow_tripdata_2015-02\n",
      "read yellow_tripdata_2015-03\n",
      "read yellow_tripdata_2015-04\n",
      "read yellow_tripdata_2015-05\n",
      "read yellow_tripdata_2015-06\n",
      "read yellow_tripdata_2014-01\n",
      "read yellow_tripdata_2014-02\n",
      "read yellow_tripdata_2014-03\n",
      "read yellow_tripdata_2014-04\n",
      "read yellow_tripdata_2014-05\n",
      "read yellow_tripdata_2014-06\n",
      "read yellow_tripdata_2014-07\n",
      "read yellow_tripdata_2014-08\n",
      "read yellow_tripdata_2014-09\n",
      "read yellow_tripdata_2014-10\n",
      "read yellow_tripdata_2014-11\n",
      "read yellow_tripdata_2014-12\n",
      "read yellow_tripdata_2013-01\n",
      "read yellow_tripdata_2013-02\n",
      "read yellow_tripdata_2013-03\n",
      "read yellow_tripdata_2013-04\n",
      "read yellow_tripdata_2013-05\n",
      "read yellow_tripdata_2013-06\n",
      "read yellow_tripdata_2013-07\n",
      "read yellow_tripdata_2013-08\n",
      "read yellow_tripdata_2013-09\n",
      "read yellow_tripdata_2013-10\n",
      "read yellow_tripdata_2013-11\n",
      "read yellow_tripdata_2013-12\n",
      "read yellow_tripdata_2012-01\n",
      "read yellow_tripdata_2012-02\n",
      "read yellow_tripdata_2012-03\n",
      "read yellow_tripdata_2012-04\n",
      "read yellow_tripdata_2012-05\n",
      "read yellow_tripdata_2012-06\n",
      "read yellow_tripdata_2012-07\n",
      "read yellow_tripdata_2012-08\n",
      "read yellow_tripdata_2012-09\n",
      "read yellow_tripdata_2012-10\n",
      "read yellow_tripdata_2012-11\n",
      "read yellow_tripdata_2012-12\n",
      "read yellow_tripdata_2011-01\n",
      "read yellow_tripdata_2011-02\n",
      "read yellow_tripdata_2011-03\n",
      "read yellow_tripdata_2011-04\n",
      "read yellow_tripdata_2011-05\n",
      "read yellow_tripdata_2011-06\n",
      "read yellow_tripdata_2011-07\n",
      "read yellow_tripdata_2011-08\n",
      "read yellow_tripdata_2011-09\n",
      "read yellow_tripdata_2011-10\n",
      "read yellow_tripdata_2011-11\n",
      "read yellow_tripdata_2011-12\n",
      "read yellow_tripdata_2010-01\n",
      "read yellow_tripdata_2010-02\n",
      "read yellow_tripdata_2010-03\n",
      "read yellow_tripdata_2010-04\n",
      "read yellow_tripdata_2010-05\n",
      "read yellow_tripdata_2010-06\n",
      "read yellow_tripdata_2010-07\n",
      "read yellow_tripdata_2010-08\n",
      "read yellow_tripdata_2010-09\n",
      "read yellow_tripdata_2010-10\n",
      "read yellow_tripdata_2010-11\n",
      "read yellow_tripdata_2010-12\n",
      "read yellow_tripdata_2009-01\n",
      "read yellow_tripdata_2009-02\n",
      "read yellow_tripdata_2009-03\n",
      "read yellow_tripdata_2009-04\n",
      "read yellow_tripdata_2009-05\n",
      "read yellow_tripdata_2009-06\n",
      "read yellow_tripdata_2009-07\n",
      "read yellow_tripdata_2009-08\n",
      "read yellow_tripdata_2009-09\n",
      "read yellow_tripdata_2009-10\n",
      "read yellow_tripdata_2009-11\n",
      "read yellow_tripdata_2009-12\n"
     ]
    }
   ],
   "source": [
    "taxi_data = get_and_clean_taxi_data(taxi_zones_df)\n",
    "#taxi_data"
   ]
  },
  {
   "cell_type": "markdown",
   "metadata": {},
   "source": [
    "### Processing Uber Data\n",
    "1. We clean the uber data by removing unnecessary columns, renaming some columns and delete some trips that are not in bound of nyc by clean_uber_data(csv_file) function\n",
    "4. get_uber_data() is getting the cleaned taxt data we are going to use for later parts of the project"
   ]
  },
  {
   "cell_type": "code",
   "execution_count": 12,
   "metadata": {},
   "outputs": [],
   "source": [
    "def clean_uber_data(csv_file):\n",
    "    uber_data = pd.read_csv(csv_file)\n",
    "    uber_data = uber_data.drop(columns=['Unnamed: 0','key','fare_amount','passenger_count'])\n",
    "    uber_data = uber_data.dropna()\n",
    "    \n",
    "    #pick up in bounding box \n",
    "    uber_data = uber_data[(uber_data['pickup_longitude']>NEW_YORK_BOX_COORDS[0][1]) & (uber_data['pickup_longitude']<NEW_YORK_BOX_COORDS[1][1])]\n",
    "    uber_data = uber_data[(uber_data['pickup_latitude']>NEW_YORK_BOX_COORDS[0][0]) & (uber_data['pickup_latitude']<NEW_YORK_BOX_COORDS[1][0])]\n",
    "    #drop off in bounding box  \n",
    "    uber_data = uber_data[(uber_data['dropoff_longitude']>NEW_YORK_BOX_COORDS[0][1]) & (uber_data['dropoff_longitude']<NEW_YORK_BOX_COORDS[1][1])]\n",
    "    uber_data = uber_data[(uber_data['dropoff_latitude']>NEW_YORK_BOX_COORDS[0][0]) & (uber_data['dropoff_latitude']<NEW_YORK_BOX_COORDS[1][0])]\n",
    "    uber_data['pickup_datetime'] = pd.to_datetime(uber_data['pickup_datetime'])\n",
    "    \n",
    "    return uber_data"
   ]
  },
  {
   "cell_type": "code",
   "execution_count": 13,
   "metadata": {},
   "outputs": [],
   "source": [
    "def get_uber_data():\n",
    "    uber_dataframe = clean_uber_data(UBER_CSV)\n",
    "    uber_dataframe = add_distance_column(uber_dataframe)\n",
    "    return uber_dataframe"
   ]
  },
  {
   "cell_type": "markdown",
   "metadata": {},
   "source": [
    "Get all the uber_data in a dataframe by calling function we defined above"
   ]
  },
  {
   "cell_type": "code",
   "execution_count": 16,
   "metadata": {},
   "outputs": [
    {
     "data": {
      "text/html": [
       "<div>\n",
       "<style scoped>\n",
       "    .dataframe tbody tr th:only-of-type {\n",
       "        vertical-align: middle;\n",
       "    }\n",
       "\n",
       "    .dataframe tbody tr th {\n",
       "        vertical-align: top;\n",
       "    }\n",
       "\n",
       "    .dataframe thead th {\n",
       "        text-align: right;\n",
       "    }\n",
       "</style>\n",
       "<table border=\"1\" class=\"dataframe\">\n",
       "  <thead>\n",
       "    <tr style=\"text-align: right;\">\n",
       "      <th></th>\n",
       "      <th>pickup_datetime</th>\n",
       "      <th>pickup_longitude</th>\n",
       "      <th>pickup_latitude</th>\n",
       "      <th>dropoff_longitude</th>\n",
       "      <th>dropoff_latitude</th>\n",
       "      <th>distance</th>\n",
       "    </tr>\n",
       "  </thead>\n",
       "  <tbody>\n",
       "    <tr>\n",
       "      <th>0</th>\n",
       "      <td>2015-05-07 19:52:06+00:00</td>\n",
       "      <td>-73.999817</td>\n",
       "      <td>40.738354</td>\n",
       "      <td>-73.999512</td>\n",
       "      <td>40.723217</td>\n",
       "      <td>1.683</td>\n",
       "    </tr>\n",
       "    <tr>\n",
       "      <th>1</th>\n",
       "      <td>2009-07-17 20:04:56+00:00</td>\n",
       "      <td>-73.994355</td>\n",
       "      <td>40.728225</td>\n",
       "      <td>-73.994710</td>\n",
       "      <td>40.750325</td>\n",
       "      <td>2.458</td>\n",
       "    </tr>\n",
       "    <tr>\n",
       "      <th>2</th>\n",
       "      <td>2009-08-24 21:45:00+00:00</td>\n",
       "      <td>-74.005043</td>\n",
       "      <td>40.740770</td>\n",
       "      <td>-73.962565</td>\n",
       "      <td>40.772647</td>\n",
       "      <td>5.036</td>\n",
       "    </tr>\n",
       "    <tr>\n",
       "      <th>3</th>\n",
       "      <td>2009-06-26 08:22:21+00:00</td>\n",
       "      <td>-73.976124</td>\n",
       "      <td>40.790844</td>\n",
       "      <td>-73.965316</td>\n",
       "      <td>40.803349</td>\n",
       "      <td>1.662</td>\n",
       "    </tr>\n",
       "    <tr>\n",
       "      <th>4</th>\n",
       "      <td>2014-08-28 17:47:00+00:00</td>\n",
       "      <td>-73.925023</td>\n",
       "      <td>40.744085</td>\n",
       "      <td>-73.973082</td>\n",
       "      <td>40.761247</td>\n",
       "      <td>4.475</td>\n",
       "    </tr>\n",
       "    <tr>\n",
       "      <th>...</th>\n",
       "      <td>...</td>\n",
       "      <td>...</td>\n",
       "      <td>...</td>\n",
       "      <td>...</td>\n",
       "      <td>...</td>\n",
       "      <td>...</td>\n",
       "    </tr>\n",
       "    <tr>\n",
       "      <th>199995</th>\n",
       "      <td>2012-10-28 10:49:00+00:00</td>\n",
       "      <td>-73.987042</td>\n",
       "      <td>40.739367</td>\n",
       "      <td>-73.986525</td>\n",
       "      <td>40.740297</td>\n",
       "      <td>0.112</td>\n",
       "    </tr>\n",
       "    <tr>\n",
       "      <th>199996</th>\n",
       "      <td>2014-03-14 01:09:00+00:00</td>\n",
       "      <td>-73.984722</td>\n",
       "      <td>40.736837</td>\n",
       "      <td>-74.006672</td>\n",
       "      <td>40.739620</td>\n",
       "      <td>1.875</td>\n",
       "    </tr>\n",
       "    <tr>\n",
       "      <th>199997</th>\n",
       "      <td>2009-06-29 00:42:00+00:00</td>\n",
       "      <td>-73.986017</td>\n",
       "      <td>40.756487</td>\n",
       "      <td>-73.858957</td>\n",
       "      <td>40.692588</td>\n",
       "      <td>12.850</td>\n",
       "    </tr>\n",
       "    <tr>\n",
       "      <th>199998</th>\n",
       "      <td>2015-05-20 14:56:25+00:00</td>\n",
       "      <td>-73.997124</td>\n",
       "      <td>40.725452</td>\n",
       "      <td>-73.983215</td>\n",
       "      <td>40.695415</td>\n",
       "      <td>3.540</td>\n",
       "    </tr>\n",
       "    <tr>\n",
       "      <th>199999</th>\n",
       "      <td>2010-05-15 04:08:00+00:00</td>\n",
       "      <td>-73.984395</td>\n",
       "      <td>40.720077</td>\n",
       "      <td>-73.985508</td>\n",
       "      <td>40.768793</td>\n",
       "      <td>5.418</td>\n",
       "    </tr>\n",
       "  </tbody>\n",
       "</table>\n",
       "<p>195472 rows × 6 columns</p>\n",
       "</div>"
      ],
      "text/plain": [
       "                 pickup_datetime  pickup_longitude  pickup_latitude  \\\n",
       "0      2015-05-07 19:52:06+00:00        -73.999817        40.738354   \n",
       "1      2009-07-17 20:04:56+00:00        -73.994355        40.728225   \n",
       "2      2009-08-24 21:45:00+00:00        -74.005043        40.740770   \n",
       "3      2009-06-26 08:22:21+00:00        -73.976124        40.790844   \n",
       "4      2014-08-28 17:47:00+00:00        -73.925023        40.744085   \n",
       "...                          ...               ...              ...   \n",
       "199995 2012-10-28 10:49:00+00:00        -73.987042        40.739367   \n",
       "199996 2014-03-14 01:09:00+00:00        -73.984722        40.736837   \n",
       "199997 2009-06-29 00:42:00+00:00        -73.986017        40.756487   \n",
       "199998 2015-05-20 14:56:25+00:00        -73.997124        40.725452   \n",
       "199999 2010-05-15 04:08:00+00:00        -73.984395        40.720077   \n",
       "\n",
       "        dropoff_longitude  dropoff_latitude  distance  \n",
       "0              -73.999512         40.723217     1.683  \n",
       "1              -73.994710         40.750325     2.458  \n",
       "2              -73.962565         40.772647     5.036  \n",
       "3              -73.965316         40.803349     1.662  \n",
       "4              -73.973082         40.761247     4.475  \n",
       "...                   ...               ...       ...  \n",
       "199995         -73.986525         40.740297     0.112  \n",
       "199996         -74.006672         40.739620     1.875  \n",
       "199997         -73.858957         40.692588    12.850  \n",
       "199998         -73.983215         40.695415     3.540  \n",
       "199999         -73.985508         40.768793     5.418  \n",
       "\n",
       "[195472 rows x 6 columns]"
      ]
     },
     "execution_count": 16,
     "metadata": {},
     "output_type": "execute_result"
    }
   ],
   "source": [
    "uber_data = get_uber_data()\n",
    "uber_data"
   ]
  },
  {
   "cell_type": "markdown",
   "metadata": {},
   "source": [
    "### Processing Weather Data\n",
    "\n",
    "1. We clean the weather data by removing unnecessary columns, renaming some columns and get hourly, daily weather data using clean_month_weather_data_hourly(csv_file) and clean_month_weather_data_daily(csv_file) functions.\n",
    "4.  We use load_and_clean_weather_data()to load and put everything in a single dataframe."
   ]
  },
  {
   "cell_type": "code",
   "execution_count": 17,
   "metadata": {},
   "outputs": [],
   "source": [
    "def clean_month_weather_data_hourly(csv_file):\n",
    "    whole_data = pd.read_csv(csv_file)\n",
    "    whole_data['REPORT_TYPE'] = whole_data['REPORT_TYPE'].astype(str)\n",
    "    whole_data['DATE'] = pd.to_datetime(whole_data['DATE'])\n",
    "    \n",
    "    hourly_data = whole_data[whole_data['REPORT_TYPE'] != 'SOD  ']\n",
    "    hourly_data = hourly_data[['DATE','HourlyPrecipitation','HourlyWindSpeed']]\n",
    "    hourly_data['HourlyPrecipitation'] = pd.to_numeric(hourly_data['HourlyPrecipitation'], errors='coerce')\n",
    "    hourly_data['HourlyWindSpeed'] = pd.to_numeric(hourly_data['HourlyWindSpeed'], errors='coerce')\n",
    "    hourly_data['HourlyPrecipitation'].fillna(0, inplace=True)\n",
    "    hourly_data['HourlyWindSpeed'].fillna(0, inplace=True)\n",
    "    hourly_data = hourly_data.rename(columns={'DATE': 'datetime'})\n",
    "    hourly_data = hourly_data.rename(columns={'HourlyPrecipitation':'hourly_precipitation','HourlyWindSpeed':'hourly_wind_speed'})\n",
    "    \n",
    "    return hourly_data"
   ]
  },
  {
   "cell_type": "code",
   "execution_count": 18,
   "metadata": {},
   "outputs": [],
   "source": [
    "def clean_month_weather_data_daily(csv_file):\n",
    "    whole_data = pd.read_csv(csv_file)\n",
    "    whole_data['REPORT_TYPE'] = whole_data['REPORT_TYPE'].astype(str)\n",
    "    whole_data['DATE'] = pd.to_datetime(whole_data['DATE'])\n",
    "    whole_data['DATE'] = whole_data['DATE'].dt.date\n",
    "    \n",
    "    hourly_data = whole_data[whole_data['REPORT_TYPE'] != 'SOD  ']\n",
    "    hourly_data = hourly_data[['DATE','HourlyPrecipitation','HourlyWindSpeed']]\n",
    "    hourly_data['HourlyPrecipitation'] = pd.to_numeric(hourly_data['HourlyPrecipitation'], errors='coerce')\n",
    "    hourly_data['HourlyWindSpeed'] = pd.to_numeric(hourly_data['HourlyWindSpeed'], errors='coerce')\n",
    "    hourly_data['HourlyPrecipitation'].fillna(0, inplace=True)\n",
    "    hourly_data = hourly_data.groupby('DATE', as_index=False).agg({'HourlyWindSpeed': 'mean', 'HourlyPrecipitation': 'sum'})\n",
    "    \n",
    "    daily_data = whole_data[whole_data['REPORT_TYPE'] == 'SOD  ']\n",
    "    daily_data = daily_data[['DATE','Sunrise','Sunset']]\n",
    "    daily_data['Sunrise'] = pd.to_numeric(daily_data['Sunrise'], errors='coerce')\n",
    "    daily_data['Sunset'] = pd.to_numeric(daily_data['Sunset'], errors='coerce')\n",
    "    \n",
    "    daily_data = hourly_data.merge(daily_data, on='DATE',how='left')\n",
    "    daily_data.fillna(method='ffill',inplace=True)\n",
    "    daily_data.fillna(method='bfill',inplace=True)\n",
    "    daily_data = daily_data.rename(columns={'DATE': 'date'})\n",
    "    daily_data = daily_data.rename(columns={'HourlyPrecipitation':'daily_precipitation', 'HourlyWindSpeed':'daily_wind_speed'})\n",
    "    daily_data = daily_data.rename(columns={'Sunrise': 'sunrise', 'Sunset': 'sunset'})\n",
    "    \n",
    "    return daily_data"
   ]
  },
  {
   "cell_type": "code",
   "execution_count": 19,
   "metadata": {},
   "outputs": [],
   "source": [
    "def load_and_clean_weather_data():\n",
    "    hourly_dataframes = []\n",
    "    daily_dataframes = []\n",
    "    \n",
    "    weather_csv_files = glob.glob(os.path.join(os.getcwd(), WEATHER_PATH, \"*.csv\"))\n",
    "    \n",
    "    for csv_file in weather_csv_files:\n",
    "        hourly_dataframe = clean_month_weather_data_hourly(csv_file)\n",
    "        daily_dataframe = clean_month_weather_data_daily(csv_file)\n",
    "        hourly_dataframes.append(hourly_dataframe)\n",
    "        daily_dataframes.append(daily_dataframe)\n",
    "        \n",
    "    # create two dataframes with hourly & daily data from every month\n",
    "    hourly_data = pd.concat(hourly_dataframes)\n",
    "    daily_data = pd.concat(daily_dataframes)\n",
    "    \n",
    "    return hourly_data, daily_data"
   ]
  },
  {
   "cell_type": "code",
   "execution_count": 20,
   "metadata": {},
   "outputs": [
    {
     "name": "stderr",
     "output_type": "stream",
     "text": [
      "/Users/wangyanyi/opt/anaconda3/lib/python3.8/site-packages/IPython/core/interactiveshell.py:3418: DtypeWarning: Columns (7,8,9,10,17,18,42,65) have mixed types.Specify dtype option on import or set low_memory=False.\n",
      "  exec(code_obj, self.user_global_ns, self.user_ns)\n",
      "/Users/wangyanyi/opt/anaconda3/lib/python3.8/site-packages/IPython/core/interactiveshell.py:3418: DtypeWarning: Columns (10) have mixed types.Specify dtype option on import or set low_memory=False.\n",
      "  exec(code_obj, self.user_global_ns, self.user_ns)\n",
      "/Users/wangyanyi/opt/anaconda3/lib/python3.8/site-packages/IPython/core/interactiveshell.py:3418: DtypeWarning: Columns (8,9,17,18,78) have mixed types.Specify dtype option on import or set low_memory=False.\n",
      "  exec(code_obj, self.user_global_ns, self.user_ns)\n",
      "/Users/wangyanyi/opt/anaconda3/lib/python3.8/site-packages/IPython/core/interactiveshell.py:3418: DtypeWarning: Columns (17,78) have mixed types.Specify dtype option on import or set low_memory=False.\n",
      "  exec(code_obj, self.user_global_ns, self.user_ns)\n",
      "/Users/wangyanyi/opt/anaconda3/lib/python3.8/site-packages/IPython/core/interactiveshell.py:3418: DtypeWarning: Columns (9,13) have mixed types.Specify dtype option on import or set low_memory=False.\n",
      "  exec(code_obj, self.user_global_ns, self.user_ns)\n",
      "/Users/wangyanyi/opt/anaconda3/lib/python3.8/site-packages/IPython/core/interactiveshell.py:3418: DtypeWarning: Columns (10,41,78) have mixed types.Specify dtype option on import or set low_memory=False.\n",
      "  exec(code_obj, self.user_global_ns, self.user_ns)\n",
      "/Users/wangyanyi/opt/anaconda3/lib/python3.8/site-packages/IPython/core/interactiveshell.py:3418: DtypeWarning: Columns (8,9,10,17) have mixed types.Specify dtype option on import or set low_memory=False.\n",
      "  exec(code_obj, self.user_global_ns, self.user_ns)\n"
     ]
    },
    {
     "data": {
      "text/html": [
       "<div>\n",
       "<style scoped>\n",
       "    .dataframe tbody tr th:only-of-type {\n",
       "        vertical-align: middle;\n",
       "    }\n",
       "\n",
       "    .dataframe tbody tr th {\n",
       "        vertical-align: top;\n",
       "    }\n",
       "\n",
       "    .dataframe thead th {\n",
       "        text-align: right;\n",
       "    }\n",
       "</style>\n",
       "<table border=\"1\" class=\"dataframe\">\n",
       "  <thead>\n",
       "    <tr style=\"text-align: right;\">\n",
       "      <th></th>\n",
       "      <th>datetime</th>\n",
       "      <th>hourly_precipitation</th>\n",
       "      <th>hourly_wind_speed</th>\n",
       "    </tr>\n",
       "  </thead>\n",
       "  <tbody>\n",
       "    <tr>\n",
       "      <th>0</th>\n",
       "      <td>2012-01-01 00:51:00</td>\n",
       "      <td>0.0</td>\n",
       "      <td>6.0</td>\n",
       "    </tr>\n",
       "    <tr>\n",
       "      <th>1</th>\n",
       "      <td>2012-01-01 01:51:00</td>\n",
       "      <td>0.0</td>\n",
       "      <td>7.0</td>\n",
       "    </tr>\n",
       "    <tr>\n",
       "      <th>2</th>\n",
       "      <td>2012-01-01 02:51:00</td>\n",
       "      <td>0.0</td>\n",
       "      <td>6.0</td>\n",
       "    </tr>\n",
       "    <tr>\n",
       "      <th>3</th>\n",
       "      <td>2012-01-01 03:51:00</td>\n",
       "      <td>0.0</td>\n",
       "      <td>5.0</td>\n",
       "    </tr>\n",
       "    <tr>\n",
       "      <th>4</th>\n",
       "      <td>2012-01-01 04:51:00</td>\n",
       "      <td>0.0</td>\n",
       "      <td>0.0</td>\n",
       "    </tr>\n",
       "    <tr>\n",
       "      <th>...</th>\n",
       "      <td>...</td>\n",
       "      <td>...</td>\n",
       "      <td>...</td>\n",
       "    </tr>\n",
       "    <tr>\n",
       "      <th>10460</th>\n",
       "      <td>2010-12-31 19:51:00</td>\n",
       "      <td>0.0</td>\n",
       "      <td>5.0</td>\n",
       "    </tr>\n",
       "    <tr>\n",
       "      <th>10461</th>\n",
       "      <td>2010-12-31 20:51:00</td>\n",
       "      <td>0.0</td>\n",
       "      <td>7.0</td>\n",
       "    </tr>\n",
       "    <tr>\n",
       "      <th>10462</th>\n",
       "      <td>2010-12-31 21:51:00</td>\n",
       "      <td>0.0</td>\n",
       "      <td>7.0</td>\n",
       "    </tr>\n",
       "    <tr>\n",
       "      <th>10463</th>\n",
       "      <td>2010-12-31 22:51:00</td>\n",
       "      <td>0.0</td>\n",
       "      <td>6.0</td>\n",
       "    </tr>\n",
       "    <tr>\n",
       "      <th>10464</th>\n",
       "      <td>2010-12-31 23:51:00</td>\n",
       "      <td>0.0</td>\n",
       "      <td>7.0</td>\n",
       "    </tr>\n",
       "  </tbody>\n",
       "</table>\n",
       "<p>76146 rows × 3 columns</p>\n",
       "</div>"
      ],
      "text/plain": [
       "                 datetime  hourly_precipitation  hourly_wind_speed\n",
       "0     2012-01-01 00:51:00                   0.0                6.0\n",
       "1     2012-01-01 01:51:00                   0.0                7.0\n",
       "2     2012-01-01 02:51:00                   0.0                6.0\n",
       "3     2012-01-01 03:51:00                   0.0                5.0\n",
       "4     2012-01-01 04:51:00                   0.0                0.0\n",
       "...                   ...                   ...                ...\n",
       "10460 2010-12-31 19:51:00                   0.0                5.0\n",
       "10461 2010-12-31 20:51:00                   0.0                7.0\n",
       "10462 2010-12-31 21:51:00                   0.0                7.0\n",
       "10463 2010-12-31 22:51:00                   0.0                6.0\n",
       "10464 2010-12-31 23:51:00                   0.0                7.0\n",
       "\n",
       "[76146 rows x 3 columns]"
      ]
     },
     "execution_count": 20,
     "metadata": {},
     "output_type": "execute_result"
    }
   ],
   "source": [
    "hourly_weather_data, daily_weather_data = load_and_clean_weather_data()\n",
    "hourly_weather_data"
   ]
  },
  {
   "cell_type": "code",
   "execution_count": 21,
   "metadata": {},
   "outputs": [
    {
     "data": {
      "text/html": [
       "<div>\n",
       "<style scoped>\n",
       "    .dataframe tbody tr th:only-of-type {\n",
       "        vertical-align: middle;\n",
       "    }\n",
       "\n",
       "    .dataframe tbody tr th {\n",
       "        vertical-align: top;\n",
       "    }\n",
       "\n",
       "    .dataframe thead th {\n",
       "        text-align: right;\n",
       "    }\n",
       "</style>\n",
       "<table border=\"1\" class=\"dataframe\">\n",
       "  <thead>\n",
       "    <tr style=\"text-align: right;\">\n",
       "      <th></th>\n",
       "      <th>date</th>\n",
       "      <th>daily_wind_speed</th>\n",
       "      <th>daily_precipitation</th>\n",
       "      <th>sunrise</th>\n",
       "      <th>sunset</th>\n",
       "    </tr>\n",
       "  </thead>\n",
       "  <tbody>\n",
       "    <tr>\n",
       "      <th>0</th>\n",
       "      <td>2012-01-01</td>\n",
       "      <td>5.866667</td>\n",
       "      <td>0.05</td>\n",
       "      <td>720.0</td>\n",
       "      <td>1639.0</td>\n",
       "    </tr>\n",
       "    <tr>\n",
       "      <th>1</th>\n",
       "      <td>2012-01-02</td>\n",
       "      <td>10.208333</td>\n",
       "      <td>0.00</td>\n",
       "      <td>720.0</td>\n",
       "      <td>1639.0</td>\n",
       "    </tr>\n",
       "    <tr>\n",
       "      <th>2</th>\n",
       "      <td>2012-01-03</td>\n",
       "      <td>10.541667</td>\n",
       "      <td>0.00</td>\n",
       "      <td>720.0</td>\n",
       "      <td>1639.0</td>\n",
       "    </tr>\n",
       "    <tr>\n",
       "      <th>3</th>\n",
       "      <td>2012-01-04</td>\n",
       "      <td>7.695652</td>\n",
       "      <td>0.00</td>\n",
       "      <td>720.0</td>\n",
       "      <td>1639.0</td>\n",
       "    </tr>\n",
       "    <tr>\n",
       "      <th>4</th>\n",
       "      <td>2012-01-05</td>\n",
       "      <td>6.260870</td>\n",
       "      <td>0.00</td>\n",
       "      <td>720.0</td>\n",
       "      <td>1639.0</td>\n",
       "    </tr>\n",
       "    <tr>\n",
       "      <th>...</th>\n",
       "      <td>...</td>\n",
       "      <td>...</td>\n",
       "      <td>...</td>\n",
       "      <td>...</td>\n",
       "      <td>...</td>\n",
       "    </tr>\n",
       "    <tr>\n",
       "      <th>360</th>\n",
       "      <td>2010-12-27</td>\n",
       "      <td>16.757576</td>\n",
       "      <td>0.41</td>\n",
       "      <td>719.0</td>\n",
       "      <td>1635.0</td>\n",
       "    </tr>\n",
       "    <tr>\n",
       "      <th>361</th>\n",
       "      <td>2010-12-28</td>\n",
       "      <td>9.000000</td>\n",
       "      <td>0.00</td>\n",
       "      <td>719.0</td>\n",
       "      <td>1635.0</td>\n",
       "    </tr>\n",
       "    <tr>\n",
       "      <th>362</th>\n",
       "      <td>2010-12-29</td>\n",
       "      <td>7.923077</td>\n",
       "      <td>0.00</td>\n",
       "      <td>719.0</td>\n",
       "      <td>1635.0</td>\n",
       "    </tr>\n",
       "    <tr>\n",
       "      <th>363</th>\n",
       "      <td>2010-12-30</td>\n",
       "      <td>4.000000</td>\n",
       "      <td>0.00</td>\n",
       "      <td>720.0</td>\n",
       "      <td>1637.0</td>\n",
       "    </tr>\n",
       "    <tr>\n",
       "      <th>364</th>\n",
       "      <td>2010-12-31</td>\n",
       "      <td>6.291667</td>\n",
       "      <td>0.00</td>\n",
       "      <td>720.0</td>\n",
       "      <td>1637.0</td>\n",
       "    </tr>\n",
       "  </tbody>\n",
       "</table>\n",
       "<p>2551 rows × 5 columns</p>\n",
       "</div>"
      ],
      "text/plain": [
       "           date  daily_wind_speed  daily_precipitation  sunrise  sunset\n",
       "0    2012-01-01          5.866667                 0.05    720.0  1639.0\n",
       "1    2012-01-02         10.208333                 0.00    720.0  1639.0\n",
       "2    2012-01-03         10.541667                 0.00    720.0  1639.0\n",
       "3    2012-01-04          7.695652                 0.00    720.0  1639.0\n",
       "4    2012-01-05          6.260870                 0.00    720.0  1639.0\n",
       "..          ...               ...                  ...      ...     ...\n",
       "360  2010-12-27         16.757576                 0.41    719.0  1635.0\n",
       "361  2010-12-28          9.000000                 0.00    719.0  1635.0\n",
       "362  2010-12-29          7.923077                 0.00    719.0  1635.0\n",
       "363  2010-12-30          4.000000                 0.00    720.0  1637.0\n",
       "364  2010-12-31          6.291667                 0.00    720.0  1637.0\n",
       "\n",
       "[2551 rows x 5 columns]"
      ]
     },
     "execution_count": 21,
     "metadata": {},
     "output_type": "execute_result"
    }
   ],
   "source": [
    "daily_weather_data"
   ]
  },
  {
   "cell_type": "code",
   "execution_count": 22,
   "metadata": {},
   "outputs": [
    {
     "data": {
      "text/html": [
       "<div>\n",
       "<style scoped>\n",
       "    .dataframe tbody tr th:only-of-type {\n",
       "        vertical-align: middle;\n",
       "    }\n",
       "\n",
       "    .dataframe tbody tr th {\n",
       "        vertical-align: top;\n",
       "    }\n",
       "\n",
       "    .dataframe thead th {\n",
       "        text-align: right;\n",
       "    }\n",
       "</style>\n",
       "<table border=\"1\" class=\"dataframe\">\n",
       "  <thead>\n",
       "    <tr style=\"text-align: right;\">\n",
       "      <th></th>\n",
       "      <th>pickup_datetime</th>\n",
       "      <th>pickup_longitude</th>\n",
       "      <th>pickup_latitude</th>\n",
       "      <th>dropoff_longitude</th>\n",
       "      <th>dropoff_latitude</th>\n",
       "      <th>distance</th>\n",
       "    </tr>\n",
       "  </thead>\n",
       "  <tbody>\n",
       "    <tr>\n",
       "      <th>2870</th>\n",
       "      <td>2013-09-07 21:19:30</td>\n",
       "      <td>-73.957418</td>\n",
       "      <td>40.718804</td>\n",
       "      <td>-74.011515</td>\n",
       "      <td>40.703358</td>\n",
       "      <td>4.872</td>\n",
       "    </tr>\n",
       "    <tr>\n",
       "      <th>396</th>\n",
       "      <td>2012-09-18 07:38:39</td>\n",
       "      <td>-74.002875</td>\n",
       "      <td>40.734576</td>\n",
       "      <td>-73.972356</td>\n",
       "      <td>40.756688</td>\n",
       "      <td>3.557</td>\n",
       "    </tr>\n",
       "    <tr>\n",
       "      <th>14</th>\n",
       "      <td>2013-01-21 20:08:00</td>\n",
       "      <td>-73.977569</td>\n",
       "      <td>40.764421</td>\n",
       "      <td>-73.996919</td>\n",
       "      <td>40.720889</td>\n",
       "      <td>5.108</td>\n",
       "    </tr>\n",
       "    <tr>\n",
       "      <th>1614</th>\n",
       "      <td>2011-05-28 10:58:05</td>\n",
       "      <td>-73.973049</td>\n",
       "      <td>40.791705</td>\n",
       "      <td>-73.951292</td>\n",
       "      <td>40.804334</td>\n",
       "      <td>2.308</td>\n",
       "    </tr>\n",
       "    <tr>\n",
       "      <th>930</th>\n",
       "      <td>2011-06-12 14:11:22</td>\n",
       "      <td>-74.003665</td>\n",
       "      <td>40.709073</td>\n",
       "      <td>-73.996919</td>\n",
       "      <td>40.720889</td>\n",
       "      <td>1.432</td>\n",
       "    </tr>\n",
       "    <tr>\n",
       "      <th>...</th>\n",
       "      <td>...</td>\n",
       "      <td>...</td>\n",
       "      <td>...</td>\n",
       "      <td>...</td>\n",
       "      <td>...</td>\n",
       "      <td>...</td>\n",
       "    </tr>\n",
       "    <tr>\n",
       "      <th>1385</th>\n",
       "      <td>2013-08-25 13:05:56</td>\n",
       "      <td>-73.965480</td>\n",
       "      <td>40.801970</td>\n",
       "      <td>-73.972356</td>\n",
       "      <td>40.756688</td>\n",
       "      <td>5.068</td>\n",
       "    </tr>\n",
       "    <tr>\n",
       "      <th>837</th>\n",
       "      <td>2010-03-30 22:17:31</td>\n",
       "      <td>-73.983414</td>\n",
       "      <td>40.738856</td>\n",
       "      <td>-73.963776</td>\n",
       "      <td>40.692111</td>\n",
       "      <td>5.455</td>\n",
       "    </tr>\n",
       "    <tr>\n",
       "      <th>1523</th>\n",
       "      <td>2011-03-18 14:31:04</td>\n",
       "      <td>-73.973049</td>\n",
       "      <td>40.791705</td>\n",
       "      <td>-73.992438</td>\n",
       "      <td>40.748497</td>\n",
       "      <td>5.074</td>\n",
       "    </tr>\n",
       "    <tr>\n",
       "      <th>1681</th>\n",
       "      <td>2010-05-27 12:26:00</td>\n",
       "      <td>-73.977142</td>\n",
       "      <td>40.759538</td>\n",
       "      <td>-73.978805</td>\n",
       "      <td>40.754308</td>\n",
       "      <td>0.598</td>\n",
       "    </tr>\n",
       "    <tr>\n",
       "      <th>752</th>\n",
       "      <td>2011-03-12 12:37:00</td>\n",
       "      <td>-73.985156</td>\n",
       "      <td>40.748575</td>\n",
       "      <td>-73.977569</td>\n",
       "      <td>40.764421</td>\n",
       "      <td>1.874</td>\n",
       "    </tr>\n",
       "  </tbody>\n",
       "</table>\n",
       "<p>200000 rows × 6 columns</p>\n",
       "</div>"
      ],
      "text/plain": [
       "         pickup_datetime  pickup_longitude  pickup_latitude  \\\n",
       "2870 2013-09-07 21:19:30        -73.957418        40.718804   \n",
       "396  2012-09-18 07:38:39        -74.002875        40.734576   \n",
       "14   2013-01-21 20:08:00        -73.977569        40.764421   \n",
       "1614 2011-05-28 10:58:05        -73.973049        40.791705   \n",
       "930  2011-06-12 14:11:22        -74.003665        40.709073   \n",
       "...                  ...               ...              ...   \n",
       "1385 2013-08-25 13:05:56        -73.965480        40.801970   \n",
       "837  2010-03-30 22:17:31        -73.983414        40.738856   \n",
       "1523 2011-03-18 14:31:04        -73.973049        40.791705   \n",
       "1681 2010-05-27 12:26:00        -73.977142        40.759538   \n",
       "752  2011-03-12 12:37:00        -73.985156        40.748575   \n",
       "\n",
       "      dropoff_longitude  dropoff_latitude  distance  \n",
       "2870         -74.011515         40.703358     4.872  \n",
       "396          -73.972356         40.756688     3.557  \n",
       "14           -73.996919         40.720889     5.108  \n",
       "1614         -73.951292         40.804334     2.308  \n",
       "930          -73.996919         40.720889     1.432  \n",
       "...                 ...               ...       ...  \n",
       "1385         -73.972356         40.756688     5.068  \n",
       "837          -73.963776         40.692111     5.455  \n",
       "1523         -73.992438         40.748497     5.074  \n",
       "1681         -73.978805         40.754308     0.598  \n",
       "752          -73.977569         40.764421     1.874  \n",
       "\n",
       "[200000 rows x 6 columns]"
      ]
     },
     "execution_count": 22,
     "metadata": {},
     "output_type": "execute_result"
    }
   ],
   "source": [
    "taxi_data"
   ]
  },
  {
   "cell_type": "code",
   "execution_count": 23,
   "metadata": {},
   "outputs": [
    {
     "data": {
      "text/html": [
       "<div>\n",
       "<style scoped>\n",
       "    .dataframe tbody tr th:only-of-type {\n",
       "        vertical-align: middle;\n",
       "    }\n",
       "\n",
       "    .dataframe tbody tr th {\n",
       "        vertical-align: top;\n",
       "    }\n",
       "\n",
       "    .dataframe thead th {\n",
       "        text-align: right;\n",
       "    }\n",
       "</style>\n",
       "<table border=\"1\" class=\"dataframe\">\n",
       "  <thead>\n",
       "    <tr style=\"text-align: right;\">\n",
       "      <th></th>\n",
       "      <th>pickup_datetime</th>\n",
       "      <th>pickup_longitude</th>\n",
       "      <th>pickup_latitude</th>\n",
       "      <th>dropoff_longitude</th>\n",
       "      <th>dropoff_latitude</th>\n",
       "      <th>distance</th>\n",
       "    </tr>\n",
       "  </thead>\n",
       "  <tbody>\n",
       "    <tr>\n",
       "      <th>0</th>\n",
       "      <td>2015-05-07 19:52:06+00:00</td>\n",
       "      <td>-73.999817</td>\n",
       "      <td>40.738354</td>\n",
       "      <td>-73.999512</td>\n",
       "      <td>40.723217</td>\n",
       "      <td>1.683</td>\n",
       "    </tr>\n",
       "    <tr>\n",
       "      <th>1</th>\n",
       "      <td>2009-07-17 20:04:56+00:00</td>\n",
       "      <td>-73.994355</td>\n",
       "      <td>40.728225</td>\n",
       "      <td>-73.994710</td>\n",
       "      <td>40.750325</td>\n",
       "      <td>2.458</td>\n",
       "    </tr>\n",
       "    <tr>\n",
       "      <th>2</th>\n",
       "      <td>2009-08-24 21:45:00+00:00</td>\n",
       "      <td>-74.005043</td>\n",
       "      <td>40.740770</td>\n",
       "      <td>-73.962565</td>\n",
       "      <td>40.772647</td>\n",
       "      <td>5.036</td>\n",
       "    </tr>\n",
       "    <tr>\n",
       "      <th>3</th>\n",
       "      <td>2009-06-26 08:22:21+00:00</td>\n",
       "      <td>-73.976124</td>\n",
       "      <td>40.790844</td>\n",
       "      <td>-73.965316</td>\n",
       "      <td>40.803349</td>\n",
       "      <td>1.662</td>\n",
       "    </tr>\n",
       "    <tr>\n",
       "      <th>4</th>\n",
       "      <td>2014-08-28 17:47:00+00:00</td>\n",
       "      <td>-73.925023</td>\n",
       "      <td>40.744085</td>\n",
       "      <td>-73.973082</td>\n",
       "      <td>40.761247</td>\n",
       "      <td>4.475</td>\n",
       "    </tr>\n",
       "    <tr>\n",
       "      <th>...</th>\n",
       "      <td>...</td>\n",
       "      <td>...</td>\n",
       "      <td>...</td>\n",
       "      <td>...</td>\n",
       "      <td>...</td>\n",
       "      <td>...</td>\n",
       "    </tr>\n",
       "    <tr>\n",
       "      <th>199995</th>\n",
       "      <td>2012-10-28 10:49:00+00:00</td>\n",
       "      <td>-73.987042</td>\n",
       "      <td>40.739367</td>\n",
       "      <td>-73.986525</td>\n",
       "      <td>40.740297</td>\n",
       "      <td>0.112</td>\n",
       "    </tr>\n",
       "    <tr>\n",
       "      <th>199996</th>\n",
       "      <td>2014-03-14 01:09:00+00:00</td>\n",
       "      <td>-73.984722</td>\n",
       "      <td>40.736837</td>\n",
       "      <td>-74.006672</td>\n",
       "      <td>40.739620</td>\n",
       "      <td>1.875</td>\n",
       "    </tr>\n",
       "    <tr>\n",
       "      <th>199997</th>\n",
       "      <td>2009-06-29 00:42:00+00:00</td>\n",
       "      <td>-73.986017</td>\n",
       "      <td>40.756487</td>\n",
       "      <td>-73.858957</td>\n",
       "      <td>40.692588</td>\n",
       "      <td>12.850</td>\n",
       "    </tr>\n",
       "    <tr>\n",
       "      <th>199998</th>\n",
       "      <td>2015-05-20 14:56:25+00:00</td>\n",
       "      <td>-73.997124</td>\n",
       "      <td>40.725452</td>\n",
       "      <td>-73.983215</td>\n",
       "      <td>40.695415</td>\n",
       "      <td>3.540</td>\n",
       "    </tr>\n",
       "    <tr>\n",
       "      <th>199999</th>\n",
       "      <td>2010-05-15 04:08:00+00:00</td>\n",
       "      <td>-73.984395</td>\n",
       "      <td>40.720077</td>\n",
       "      <td>-73.985508</td>\n",
       "      <td>40.768793</td>\n",
       "      <td>5.418</td>\n",
       "    </tr>\n",
       "  </tbody>\n",
       "</table>\n",
       "<p>195472 rows × 6 columns</p>\n",
       "</div>"
      ],
      "text/plain": [
       "                 pickup_datetime  pickup_longitude  pickup_latitude  \\\n",
       "0      2015-05-07 19:52:06+00:00        -73.999817        40.738354   \n",
       "1      2009-07-17 20:04:56+00:00        -73.994355        40.728225   \n",
       "2      2009-08-24 21:45:00+00:00        -74.005043        40.740770   \n",
       "3      2009-06-26 08:22:21+00:00        -73.976124        40.790844   \n",
       "4      2014-08-28 17:47:00+00:00        -73.925023        40.744085   \n",
       "...                          ...               ...              ...   \n",
       "199995 2012-10-28 10:49:00+00:00        -73.987042        40.739367   \n",
       "199996 2014-03-14 01:09:00+00:00        -73.984722        40.736837   \n",
       "199997 2009-06-29 00:42:00+00:00        -73.986017        40.756487   \n",
       "199998 2015-05-20 14:56:25+00:00        -73.997124        40.725452   \n",
       "199999 2010-05-15 04:08:00+00:00        -73.984395        40.720077   \n",
       "\n",
       "        dropoff_longitude  dropoff_latitude  distance  \n",
       "0              -73.999512         40.723217     1.683  \n",
       "1              -73.994710         40.750325     2.458  \n",
       "2              -73.962565         40.772647     5.036  \n",
       "3              -73.965316         40.803349     1.662  \n",
       "4              -73.973082         40.761247     4.475  \n",
       "...                   ...               ...       ...  \n",
       "199995         -73.986525         40.740297     0.112  \n",
       "199996         -74.006672         40.739620     1.875  \n",
       "199997         -73.858957         40.692588    12.850  \n",
       "199998         -73.983215         40.695415     3.540  \n",
       "199999         -73.985508         40.768793     5.418  \n",
       "\n",
       "[195472 rows x 6 columns]"
      ]
     },
     "execution_count": 23,
     "metadata": {},
     "output_type": "execute_result"
    }
   ],
   "source": [
    "uber_data"
   ]
  },
  {
   "cell_type": "markdown",
   "metadata": {},
   "source": [
    "### Process All Data\n",
    "\n",
    "This is executing all the functions and get taxi_data, uber_data and hourly, daily weather data.\n"
   ]
  },
  {
   "cell_type": "code",
   "execution_count": 287,
   "metadata": {},
   "outputs": [
    {
     "name": "stderr",
     "output_type": "stream",
     "text": [
      "<ipython-input-282-064c97ab5fac>:5: UserWarning: Geometry is in a geographic CRS. Results from 'centroid' are likely incorrect. Use 'GeoSeries.to_crs()' to re-project geometries to a projected CRS before this operation.\n",
      "\n",
      "  taxi_zone_df['lon'] = taxi_zone_df.centroid.x\n",
      "<ipython-input-282-064c97ab5fac>:6: UserWarning: Geometry is in a geographic CRS. Results from 'centroid' are likely incorrect. Use 'GeoSeries.to_crs()' to re-project geometries to a projected CRS before this operation.\n",
      "\n",
      "  taxi_zone_df['lat'] = taxi_zone_df.centroid.y\n"
     ]
    },
    {
     "name": "stdout",
     "output_type": "stream",
     "text": [
      "read yellow_tripdata_2015-01\n",
      "read yellow_tripdata_2015-02\n",
      "read yellow_tripdata_2015-03\n",
      "read yellow_tripdata_2015-04\n",
      "read yellow_tripdata_2015-05\n",
      "read yellow_tripdata_2015-06\n",
      "read yellow_tripdata_2014-01\n",
      "read yellow_tripdata_2014-02\n",
      "read yellow_tripdata_2014-03\n",
      "read yellow_tripdata_2014-04\n",
      "read yellow_tripdata_2014-05\n",
      "read yellow_tripdata_2014-06\n",
      "read yellow_tripdata_2014-07\n",
      "read yellow_tripdata_2014-08\n",
      "read yellow_tripdata_2014-09\n",
      "read yellow_tripdata_2014-10\n",
      "read yellow_tripdata_2014-11\n",
      "read yellow_tripdata_2014-12\n",
      "read yellow_tripdata_2013-01\n",
      "read yellow_tripdata_2013-02\n",
      "read yellow_tripdata_2013-03\n",
      "read yellow_tripdata_2013-04\n",
      "read yellow_tripdata_2013-05\n",
      "read yellow_tripdata_2013-06\n",
      "read yellow_tripdata_2013-07\n",
      "read yellow_tripdata_2013-08\n",
      "read yellow_tripdata_2013-09\n",
      "read yellow_tripdata_2013-10\n",
      "read yellow_tripdata_2013-11\n",
      "read yellow_tripdata_2013-12\n",
      "read yellow_tripdata_2012-01\n",
      "read yellow_tripdata_2012-02\n",
      "read yellow_tripdata_2012-03\n",
      "read yellow_tripdata_2012-04\n",
      "read yellow_tripdata_2012-05\n",
      "read yellow_tripdata_2012-06\n",
      "read yellow_tripdata_2012-07\n",
      "read yellow_tripdata_2012-08\n",
      "read yellow_tripdata_2012-09\n",
      "read yellow_tripdata_2012-10\n",
      "read yellow_tripdata_2012-11\n",
      "read yellow_tripdata_2012-12\n",
      "read yellow_tripdata_2011-01\n",
      "read yellow_tripdata_2011-02\n",
      "read yellow_tripdata_2011-03\n",
      "read yellow_tripdata_2011-04\n",
      "read yellow_tripdata_2011-05\n",
      "read yellow_tripdata_2011-06\n",
      "read yellow_tripdata_2011-07\n",
      "read yellow_tripdata_2011-08\n",
      "read yellow_tripdata_2011-09\n",
      "read yellow_tripdata_2011-10\n",
      "read yellow_tripdata_2011-11\n",
      "read yellow_tripdata_2011-12\n",
      "read yellow_tripdata_2010-01\n",
      "read yellow_tripdata_2010-02\n",
      "read yellow_tripdata_2010-03\n",
      "read yellow_tripdata_2010-04\n",
      "read yellow_tripdata_2010-05\n",
      "read yellow_tripdata_2010-06\n",
      "read yellow_tripdata_2010-07\n",
      "read yellow_tripdata_2010-08\n",
      "read yellow_tripdata_2010-09\n",
      "read yellow_tripdata_2010-10\n",
      "read yellow_tripdata_2010-11\n",
      "read yellow_tripdata_2010-12\n",
      "read yellow_tripdata_2009-01\n",
      "read yellow_tripdata_2009-02\n",
      "read yellow_tripdata_2009-03\n",
      "read yellow_tripdata_2009-04\n",
      "read yellow_tripdata_2009-05\n",
      "read yellow_tripdata_2009-06\n",
      "read yellow_tripdata_2009-07\n",
      "read yellow_tripdata_2009-08\n",
      "read yellow_tripdata_2009-09\n",
      "read yellow_tripdata_2009-10\n",
      "read yellow_tripdata_2009-11\n",
      "read yellow_tripdata_2009-12\n"
     ]
    },
    {
     "name": "stderr",
     "output_type": "stream",
     "text": [
      "/Users/wangyanyi/opt/anaconda3/lib/python3.8/site-packages/IPython/core/interactiveshell.py:3418: DtypeWarning: Columns (7,8,9,10,17,18,42,65) have mixed types.Specify dtype option on import or set low_memory=False.\n",
      "  exec(code_obj, self.user_global_ns, self.user_ns)\n",
      "/Users/wangyanyi/opt/anaconda3/lib/python3.8/site-packages/IPython/core/interactiveshell.py:3418: DtypeWarning: Columns (10) have mixed types.Specify dtype option on import or set low_memory=False.\n",
      "  exec(code_obj, self.user_global_ns, self.user_ns)\n",
      "/Users/wangyanyi/opt/anaconda3/lib/python3.8/site-packages/IPython/core/interactiveshell.py:3418: DtypeWarning: Columns (8,9,17,18,78) have mixed types.Specify dtype option on import or set low_memory=False.\n",
      "  exec(code_obj, self.user_global_ns, self.user_ns)\n",
      "/Users/wangyanyi/opt/anaconda3/lib/python3.8/site-packages/IPython/core/interactiveshell.py:3418: DtypeWarning: Columns (17,78) have mixed types.Specify dtype option on import or set low_memory=False.\n",
      "  exec(code_obj, self.user_global_ns, self.user_ns)\n",
      "/Users/wangyanyi/opt/anaconda3/lib/python3.8/site-packages/IPython/core/interactiveshell.py:3418: DtypeWarning: Columns (9,13) have mixed types.Specify dtype option on import or set low_memory=False.\n",
      "  exec(code_obj, self.user_global_ns, self.user_ns)\n",
      "/Users/wangyanyi/opt/anaconda3/lib/python3.8/site-packages/IPython/core/interactiveshell.py:3418: DtypeWarning: Columns (10,41,78) have mixed types.Specify dtype option on import or set low_memory=False.\n",
      "  exec(code_obj, self.user_global_ns, self.user_ns)\n",
      "/Users/wangyanyi/opt/anaconda3/lib/python3.8/site-packages/IPython/core/interactiveshell.py:3418: DtypeWarning: Columns (8,9,10,17) have mixed types.Specify dtype option on import or set low_memory=False.\n",
      "  exec(code_obj, self.user_global_ns, self.user_ns)\n"
     ]
    }
   ],
   "source": [
    "taxi_data = get_and_clean_taxi_data()\n",
    "uber_data = get_uber_data()\n",
    "hourly_weather_data, daily_weather_data = load_and_clean_weather_data()"
   ]
  },
  {
   "cell_type": "markdown",
   "metadata": {},
   "source": [
    "## Part 2: Storing Cleaned Data\n",
    "\n",
    "We then store all the cleaned data in to database, we used SQL to create tables for each dataframe we created."
   ]
  },
  {
   "cell_type": "code",
   "execution_count": 288,
   "metadata": {},
   "outputs": [],
   "source": [
    "engine = db.create_engine(DATABASE_URL)"
   ]
  },
  {
   "cell_type": "code",
   "execution_count": 289,
   "metadata": {},
   "outputs": [],
   "source": [
    "# using SQL to create 4 tables/dataframes\n",
    "HOURLY_WEATHER_SCHEMA = \"\"\"\n",
    "CREATE TABLE IF NOT EXISTS hourly_weather\n",
    "(\n",
    "    id INTEGER PRIMARY KEY,\n",
    "    datetime DATETIME,\n",
    "    hourly_precipitation FLOAT,\n",
    "    hourly_wind_speed FLOAT\n",
    ");\n",
    "\"\"\"\n",
    "\n",
    "DAILY_WEATHER_SCHEMA = \"\"\"\n",
    "CREATE TABLE IF NOT EXISTS daily_weather\n",
    "(\n",
    "    id INTEGER PRIMARY KEY,\n",
    "    date DATE,\n",
    "    daily_wind_speed FLOAT,\n",
    "    daily_precipitation FLOAT,\n",
    "    sunrise INT32,\n",
    "    sunset INT32\n",
    ");\n",
    "\"\"\"\n",
    "\n",
    "TAXI_TRIPS_SCHEMA = \"\"\"\n",
    "CREATE TABLE IF NOT EXISTS taxi_trips\n",
    "(\n",
    "    id INTEGER PRIMARY KEY,\n",
    "    pickup_datetime DATETIME,\n",
    "    pickup_longitude FLOAT,\n",
    "    pickup_latitude FLOAT,\n",
    "    dropoff_longitude FLOAT,\n",
    "    dropoff_latitude FLOAT,\n",
    "    distance FLOAT\n",
    "    tip_amount FLOAT\n",
    ");\n",
    "\"\"\"\n",
    "\n",
    "UBER_TRIPS_SCHEMA = \"\"\"\n",
    "CREATE TABLE IF NOT EXISTS uber_trips\n",
    "(\n",
    "    id INTEGER PRIMARY KEY,\n",
    "    pickup_datetime DATETIME,\n",
    "    pickup_longitude FLOAT,\n",
    "    pickup_latitude FLOAT,\n",
    "    dropoff_longitude FLOAT,\n",
    "    dropoff_latitude FLOAT,\n",
    "    distance FLOAT\n",
    ");\n",
    "\"\"\""
   ]
  },
  {
   "cell_type": "code",
   "execution_count": 290,
   "metadata": {},
   "outputs": [],
   "source": [
    "# create that required schema.sql file\n",
    "with open(DATABASE_SCHEMA_FILE, \"w\") as f:\n",
    "    f.write(HOURLY_WEATHER_SCHEMA)\n",
    "    f.write(DAILY_WEATHER_SCHEMA)\n",
    "    f.write(TAXI_TRIPS_SCHEMA)\n",
    "    f.write(UBER_TRIPS_SCHEMA)"
   ]
  },
  {
   "cell_type": "code",
   "execution_count": 291,
   "metadata": {},
   "outputs": [],
   "source": [
    "# create the tables with the schema files\n",
    "with engine.connect() as connection:\n",
    "    sql = open(DATABASE_SCHEMA_FILE, \"r\")\n",
    "    commands = sql.read().split(\";\")\n",
    "    sql.close()\n",
    "    for command in commands:\n",
    "        connection.execute(command)"
   ]
  },
  {
   "cell_type": "markdown",
   "metadata": {},
   "source": [
    "### Add Data to Database\n",
    "\n",
    "After we create the table we add it with data from dataframe we created above"
   ]
  },
  {
   "cell_type": "code",
   "execution_count": 292,
   "metadata": {},
   "outputs": [],
   "source": [
    "def write_dataframes_to_table(table_to_df_dict):\n",
    "    for name, table in table_to_df_dict.items():\n",
    "        table.to_sql(name, engine, if_exists='replace', index=False)"
   ]
  },
  {
   "cell_type": "code",
   "execution_count": 293,
   "metadata": {},
   "outputs": [],
   "source": [
    "map_table_name_to_dataframe = {\n",
    "    \"taxi_trips\": taxi_data,\n",
    "    \"uber_trips\": uber_data,\n",
    "    \"hourly_weather\": hourly_weather_data,\n",
    "    \"daily_weather\": daily_weather_data,\n",
    "}"
   ]
  },
  {
   "cell_type": "code",
   "execution_count": 294,
   "metadata": {},
   "outputs": [],
   "source": [
    "write_dataframes_to_table(map_table_name_to_dataframe)"
   ]
  },
  {
   "cell_type": "markdown",
   "metadata": {},
   "source": [
    "## Part 3: Understanding the Data"
   ]
  },
  {
   "cell_type": "markdown",
   "metadata": {},
   "source": [
    "_A checklist of requirements to keep you on track. Remove this whole cell before submitting the project. The order of these tasks aren't necessarily the order in which they need to be done. It's okay to do them in an order that makes sense to you._\n",
    "\n",
    "* [ ] For 01-2009 through 06-2015, what hour of the day was the most popular to take a yellow taxi? The result should have 24 bins.\n",
    "* [ ] For the same time frame, what day of the week was the most popular to take an uber? The result should have 7 bins.\n",
    "* [ ] What is the 95% percentile of distance traveled for all hired trips during July 2013?\n",
    "* [ ] What were the top 10 days with the highest number of hired rides for 2009, and what was the average distance for each day?\n",
    "* [ ] Which 10 days in 2014 were the windiest, and how many hired trips were made on those days?\n",
    "* [ ] During Hurricane Sandy in NYC (Oct 29-30, 2012) and the week leading up to it, how many trips were taken each hour, and for each hour, how much precipitation did NYC receive and what was the sustained wind speed?"
   ]
  },
  {
   "cell_type": "code",
   "execution_count": 31,
   "metadata": {},
   "outputs": [],
   "source": [
    "def write_query_to_file(query, outfile):\n",
    "    with open(outfile, \"w\") as f:\n",
    "        f.write(query)"
   ]
  },
  {
   "cell_type": "markdown",
   "metadata": {},
   "source": [
    "### Query 1\n",
    "\n",
    "After we stored the data, we can query to answer several question of interests"
   ]
  },
  {
   "cell_type": "markdown",
   "metadata": {},
   "source": [
    "For 01-2009 through 06-2015, this query is finding hour of the day was the most popular to take a yellow taxi"
   ]
  },
  {
   "cell_type": "code",
   "execution_count": 32,
   "metadata": {},
   "outputs": [],
   "source": [
    "QUERY_1 = \"\"\"\n",
    "SELECT strftime('%H', pickup_datetime) AS time, COUNT(*) AS number\n",
    "FROM taxi_trips\n",
    "GROUP BY time\n",
    "ORDER BY number DESC;\n",
    "\"\"\""
   ]
  },
  {
   "cell_type": "code",
   "execution_count": 33,
   "metadata": {},
   "outputs": [
    {
     "data": {
      "text/plain": [
       "[('19', 12502),\n",
       " ('18', 11963),\n",
       " ('20', 11628),\n",
       " ('21', 11568),\n",
       " ('22', 11075),\n",
       " ('14', 10369),\n",
       " ('13', 9895),\n",
       " ('12', 9830),\n",
       " ('23', 9823),\n",
       " ('17', 9729),\n",
       " ('15', 9690),\n",
       " ('11', 9374),\n",
       " ('09', 9167),\n",
       " ('08', 9105),\n",
       " ('10', 9081),\n",
       " ('16', 8343),\n",
       " ('00', 7884),\n",
       " ('07', 7118),\n",
       " ('01', 5757),\n",
       " ('02', 4425),\n",
       " ('06', 4075),\n",
       " ('03', 3248),\n",
       " ('04', 2377),\n",
       " ('05', 1974)]"
      ]
     },
     "execution_count": 33,
     "metadata": {},
     "output_type": "execute_result"
    }
   ],
   "source": [
    "engine.execute(QUERY_1).fetchall()"
   ]
  },
  {
   "cell_type": "code",
   "execution_count": 34,
   "metadata": {},
   "outputs": [],
   "source": [
    "write_query_to_file(QUERY_1, \"most_popular_hour.sql\")"
   ]
  },
  {
   "cell_type": "markdown",
   "metadata": {},
   "source": [
    "### Query 2\n",
    "For the same time frame, this query finds what day of the week was the most popular to take an uber"
   ]
  },
  {
   "cell_type": "code",
   "execution_count": 35,
   "metadata": {},
   "outputs": [],
   "source": [
    "QUERY_2 = \"\"\"\n",
    "SELECT strftime('%w', pickup_datetime) AS day, COUNT(*) AS number\n",
    "FROM uber_trips\n",
    "GROUP BY day\n",
    "ORDER BY number DESC;\n",
    "\"\"\""
   ]
  },
  {
   "cell_type": "code",
   "execution_count": 36,
   "metadata": {},
   "outputs": [
    {
     "data": {
      "text/plain": [
       "[('5', 30166),\n",
       " ('6', 29599),\n",
       " ('4', 29338),\n",
       " ('3', 28328),\n",
       " ('2', 27526),\n",
       " ('0', 25834),\n",
       " ('1', 24681)]"
      ]
     },
     "execution_count": 36,
     "metadata": {},
     "output_type": "execute_result"
    }
   ],
   "source": [
    "engine.execute(QUERY_2).fetchall()"
   ]
  },
  {
   "cell_type": "code",
   "execution_count": 37,
   "metadata": {},
   "outputs": [],
   "source": [
    "write_query_to_file(QUERY_2, \"most_popular_day.sql\")"
   ]
  },
  {
   "cell_type": "markdown",
   "metadata": {},
   "source": [
    "### Query 3\n",
    "This query is finding What is the 95% percentile of distance traveled for all hired trips during July 2013"
   ]
  },
  {
   "cell_type": "code",
   "execution_count": 38,
   "metadata": {},
   "outputs": [],
   "source": [
    "QUERY_3 = \"\"\"\n",
    "WITH hired_trips AS\n",
    "(\n",
    "    SELECT pickup_datetime, distance FROM taxi_trips \n",
    "    WHERE pickup_datetime BETWEEN '2013-07-01' AND '2013-08-01'\n",
    "    UNION ALL\n",
    "    SELECT pickup_datetime, distance FROM uber_trips\n",
    "    WHERE pickup_datetime BETWEEN '2013-07-01' AND '2013-08-01'\n",
    ")\n",
    "SELECT distance\n",
    "FROM hired_trips\n",
    "ORDER BY distance\n",
    "LIMIT 1\n",
    "OFFSET (SELECT COUNT(*) FROM hired_trips) * 95 / 100 - 1 ;\n",
    "\"\"\""
   ]
  },
  {
   "cell_type": "code",
   "execution_count": 39,
   "metadata": {},
   "outputs": [
    {
     "data": {
      "text/plain": [
       "[(10.013,)]"
      ]
     },
     "execution_count": 39,
     "metadata": {},
     "output_type": "execute_result"
    }
   ],
   "source": [
    "engine.execute(QUERY_3).fetchall()"
   ]
  },
  {
   "cell_type": "code",
   "execution_count": 40,
   "metadata": {},
   "outputs": [],
   "source": [
    "write_query_to_file(QUERY_3, \"95%_percentile_distance.sql\")"
   ]
  },
  {
   "cell_type": "markdown",
   "metadata": {},
   "source": [
    "### Query 4\n",
    " This query is finding What were the top 10 days with the highest number of hired rides for 2009, \n",
    " and what was the average distance for each day.\n",
    " "
   ]
  },
  {
   "cell_type": "code",
   "execution_count": 41,
   "metadata": {},
   "outputs": [],
   "source": [
    "QUERY_4 = \"\"\"\n",
    "WITH hired_trips AS\n",
    "(\n",
    "    SELECT pickup_datetime, distance FROM taxi_trips \n",
    "    WHERE pickup_datetime BETWEEN '2009-01-01' AND '2010-01-01'\n",
    "    UNION ALL\n",
    "    SELECT pickup_datetime, distance FROM uber_trips\n",
    "    WHERE pickup_datetime BETWEEN '2009-01-01' AND '2010-01-01'\n",
    ")\n",
    "SELECT DATE(pickup_datetime) AS date, COUNT(*) AS number, printf(\"%.4f\",AVG(distance)) AS avg_distance\n",
    "FROM hired_trips\n",
    "GROUP BY date\n",
    "ORDER BY number DESC\n",
    "LIMIT 10;\n",
    "\"\"\""
   ]
  },
  {
   "cell_type": "code",
   "execution_count": 42,
   "metadata": {},
   "outputs": [
    {
     "data": {
      "text/plain": [
       "[('2009-12-11', 259, '2.8866'),\n",
       " ('2009-08-14', 222, '3.3305'),\n",
       " ('2009-05-16', 218, '2.8761'),\n",
       " ('2009-02-20', 218, '2.9740'),\n",
       " ('2009-06-05', 217, '2.8216'),\n",
       " ('2009-01-31', 213, '2.9605'),\n",
       " ('2009-12-18', 212, '2.9834'),\n",
       " ('2009-12-05', 212, '3.0348'),\n",
       " ('2009-02-12', 210, '2.6827'),\n",
       " ('2009-03-12', 209, '2.9992')]"
      ]
     },
     "execution_count": 42,
     "metadata": {},
     "output_type": "execute_result"
    }
   ],
   "source": [
    "engine.execute(QUERY_4).fetchall()"
   ]
  },
  {
   "cell_type": "code",
   "execution_count": 43,
   "metadata": {},
   "outputs": [],
   "source": [
    "write_query_to_file(QUERY_4, \"top_10_days.sql\")"
   ]
  },
  {
   "cell_type": "markdown",
   "metadata": {},
   "source": [
    "### Query 5\n",
    "Query 5 is getting Which 10 days in 2014 were the windiest, and how many hired trips were made on those days."
   ]
  },
  {
   "cell_type": "code",
   "execution_count": 44,
   "metadata": {},
   "outputs": [],
   "source": [
    "QUERY_5 = \"\"\"\n",
    "WITH hired_trips AS\n",
    "(\n",
    "    SELECT DATE(pickup_datetime) AS date FROM taxi_trips\n",
    "    WHERE date BETWEEN '2014-01-01' AND '2015-01-01'\n",
    "    UNION ALL\n",
    "    SELECT DATE(pickup_datetime) AS date FROM uber_trips\n",
    "    WHERE date BETWEEN '2014-01-01' AND '2015-01-01'\n",
    ")\n",
    "SELECT hired_trips.date as date, printf(\"%.4f\",daily_wind_speed), COUNT(*) AS number\n",
    "FROM hired_trips\n",
    "JOIN daily_weather ON hired_trips.date = DATE(daily_weather.date)\n",
    "GROUP BY hired_trips.date\n",
    "ORDER BY daily_wind_speed DESC\n",
    "LIMIT 10\n",
    "\"\"\""
   ]
  },
  {
   "cell_type": "code",
   "execution_count": 45,
   "metadata": {},
   "outputs": [
    {
     "data": {
      "text/plain": [
       "[('2014-03-13', '14.0000', 202),\n",
       " ('2014-01-07', '13.0833', 180),\n",
       " ('2014-01-02', '12.7273', 129),\n",
       " ('2014-02-13', '12.2264', 140),\n",
       " ('2014-03-26', '11.9545', 171),\n",
       " ('2014-03-29', '11.9149', 190),\n",
       " ('2014-12-07', '11.6000', 150),\n",
       " ('2014-12-09', '11.2692', 176),\n",
       " ('2014-12-08', '11.2667', 150),\n",
       " ('2014-11-02', '10.8261', 153)]"
      ]
     },
     "execution_count": 45,
     "metadata": {},
     "output_type": "execute_result"
    }
   ],
   "source": [
    "engine.execute(QUERY_5).fetchall()"
   ]
  },
  {
   "cell_type": "code",
   "execution_count": 46,
   "metadata": {},
   "outputs": [],
   "source": [
    "write_query_to_file(QUERY_5, \"windiest_10_days.sql\")"
   ]
  },
  {
   "cell_type": "markdown",
   "metadata": {},
   "source": [
    "### Query 6\n",
    "This query is finding that during Hurricane Sandy in NYC (Oct 29-30, 2012) and the week leading up to it, how many trips were taken each hour, and for each hour, how much precipitation did NYC receive and what was the sustained wind speed?"
   ]
  },
  {
   "cell_type": "code",
   "execution_count": 47,
   "metadata": {},
   "outputs": [],
   "source": [
    "QUERY_6 = \"\"\"\n",
    "WITH hired_trips AS\n",
    "(\n",
    "    SELECT strftime('%Y-%m-%d %H',pickup_datetime) AS trip_hour FROM taxi_trips\n",
    "    WHERE pickup_datetime BETWEEN '2012-10-22' AND '2012-10-31'\n",
    "    UNION ALL\n",
    "    SELECT strftime('%Y-%m-%d %H',pickup_datetime) AS trip_hour FROM uber_trips\n",
    "    WHERE pickup_datetime BETWEEN '2012-10-22' AND '2012-10-31'\n",
    "),\n",
    "hurricane_weather AS\n",
    "(\n",
    "    SELECT strftime('%Y-%m-%d %H',datetime) AS weather_hour, hourly_precipitation, hourly_wind_speed FROM hourly_weather\n",
    "    WHERE datetime BETWEEN '2012-10-22' AND '2012-10-31'\n",
    ")\n",
    "SELECT weather_hour, COALESCE(COUNT(trip_hour),0) AS number, hourly_precipitation, hourly_wind_speed\n",
    "FROM hurricane_weather\n",
    "LEFT JOIN hired_trips\n",
    "ON trip_hour = weather_hour\n",
    "GROUP BY weather_hour\n",
    "\"\"\""
   ]
  },
  {
   "cell_type": "code",
   "execution_count": 48,
   "metadata": {},
   "outputs": [
    {
     "data": {
      "text/plain": [
       "[('2012-10-22 00', 4, 0.0, 7.0),\n",
       " ('2012-10-22 01', 0, 0.0, 5.0),\n",
       " ('2012-10-22 02', 2, 0.0, 7.0),\n",
       " ('2012-10-22 03', 1, 0.0, 0.0),\n",
       " ('2012-10-22 04', 0, 0.0, 0.0),\n",
       " ('2012-10-22 05', 3, 0.0, 0.0),\n",
       " ('2012-10-22 06', 8, 0.0, 5.0),\n",
       " ('2012-10-22 07', 8, 0.0, 3.0),\n",
       " ('2012-10-22 08', 4, 0.0, 3.0),\n",
       " ('2012-10-22 09', 11, 0.0, 5.0),\n",
       " ('2012-10-22 10', 5, 0.0, 0.0),\n",
       " ('2012-10-22 11', 10, 0.0, 0.0),\n",
       " ('2012-10-22 12', 6, 0.0, 11.0),\n",
       " ('2012-10-22 13', 12, 0.0, 0.0),\n",
       " ('2012-10-22 14', 6, 0.0, 7.0),\n",
       " ('2012-10-22 15', 4, 0.0, 6.0),\n",
       " ('2012-10-22 16', 9, 0.0, 3.0),\n",
       " ('2012-10-22 17', 9, 0.0, 7.0),\n",
       " ('2012-10-22 18', 13, 0.0, 5.0),\n",
       " ('2012-10-22 19', 12, 0.0, 5.0),\n",
       " ('2012-10-22 20', 7, 0.0, 3.0),\n",
       " ('2012-10-22 21', 6, 0.0, 0.0),\n",
       " ('2012-10-22 22', 11, 0.0, 3.0),\n",
       " ('2012-10-22 23', 2, 0.0, 3.0),\n",
       " ('2012-10-23 00', 5, 0.0, 3.0),\n",
       " ('2012-10-23 01', 2, 0.0, 0.0),\n",
       " ('2012-10-23 02', 1, 0.0, 3.0),\n",
       " ('2012-10-23 03', 0, 0.0, 0.0),\n",
       " ('2012-10-23 04', 0, 0.0, 3.0),\n",
       " ('2012-10-23 05', 2, 0.0, 0.0),\n",
       " ('2012-10-23 06', 5, 0.0, 0.0),\n",
       " ('2012-10-23 07', 12, 0.0, 0.0),\n",
       " ('2012-10-23 08', 14, 0.0, 0.0),\n",
       " ('2012-10-23 09', 8, 0.0, 3.0),\n",
       " ('2012-10-23 10', 9, 0.0, 0.0),\n",
       " ('2012-10-23 11', 7, 0.0, 3.0),\n",
       " ('2012-10-23 12', 6, 0.0, 0.0),\n",
       " ('2012-10-23 13', 6, 0.0, 0.0),\n",
       " ('2012-10-23 14', 14, 0.0, 0.0),\n",
       " ('2012-10-23 15', 8, 0.0, 0.0),\n",
       " ('2012-10-23 16', 3, 0.0, 3.0),\n",
       " ('2012-10-23 18', 9, 0.0, 5.0),\n",
       " ('2012-10-23 19', 11, 0.0, 0.0),\n",
       " ('2012-10-23 20', 13, 0.02, 0.0),\n",
       " ('2012-10-23 21', 10, 0.0, 5.0),\n",
       " ('2012-10-23 22', 9, 0.01, 0.0),\n",
       " ('2012-10-23 23', 7, 0.0, 5.0),\n",
       " ('2012-10-24 00', 0, 0.0, 3.0),\n",
       " ('2012-10-24 01', 2, 0.0, 6.0),\n",
       " ('2012-10-24 02', 16, 0.0, 5.0),\n",
       " ('2012-10-24 03', 0, 0.0, 7.0),\n",
       " ('2012-10-24 04', 1, 0.0, 7.0),\n",
       " ('2012-10-24 05', 3, 0.0, 6.0),\n",
       " ('2012-10-24 06', 4, 0.0, 5.0),\n",
       " ('2012-10-24 07', 21, 0.0, 5.0),\n",
       " ('2012-10-24 08', 4, 0.0, 0.0),\n",
       " ('2012-10-24 09', 14, 0.0, 0.0),\n",
       " ('2012-10-24 10', 5, 0.0, 7.0),\n",
       " ('2012-10-24 11', 11, 0.0, 7.0),\n",
       " ('2012-10-24 12', 39, 0.0, 8.0),\n",
       " ('2012-10-24 13', 9, 0.0, 8.0),\n",
       " ('2012-10-24 14', 14, 0.0, 6.0),\n",
       " ('2012-10-24 15', 6, 0.0, 7.0),\n",
       " ('2012-10-24 16', 4, 0.0, 8.0),\n",
       " ('2012-10-24 17', 13, 0.0, 5.0),\n",
       " ('2012-10-24 18', 7, 0.0, 7.0),\n",
       " ('2012-10-24 19', 11, 0.0, 8.0),\n",
       " ('2012-10-24 20', 24, 0.0, 0.0),\n",
       " ('2012-10-24 21', 24, 0.0, 3.0),\n",
       " ('2012-10-24 22', 28, 0.0, 5.0),\n",
       " ('2012-10-24 23', 7, 0.0, 0.0),\n",
       " ('2012-10-25 00', 18, 0.0, 6.0),\n",
       " ('2012-10-25 01', 2, 0.0, 3.0),\n",
       " ('2012-10-25 02', 16, 0.0, 3.0),\n",
       " ('2012-10-25 03', 4, 0.0, 6.0),\n",
       " ('2012-10-25 04', 2, 0.0, 6.0),\n",
       " ('2012-10-25 05', 2, 0.0, 0.0),\n",
       " ('2012-10-25 06', 7, 0.0, 5.0),\n",
       " ('2012-10-25 07', 4, 0.0, 6.0),\n",
       " ('2012-10-25 08', 12, 0.0, 5.0),\n",
       " ('2012-10-25 09', 8, 0.0, 3.0),\n",
       " ('2012-10-25 10', 9, 0.0, 6.0),\n",
       " ('2012-10-25 11', 8, 0.0, 0.0),\n",
       " ('2012-10-25 12', 14, 0.0, 6.0),\n",
       " ('2012-10-25 13', 9, 0.0, 0.0),\n",
       " ('2012-10-25 14', 10, 0.0, 5.0),\n",
       " ('2012-10-25 15', 9, 0.0, 5.0),\n",
       " ('2012-10-25 16', 3, 0.0, 0.0),\n",
       " ('2012-10-25 17', 5, 0.0, 3.0),\n",
       " ('2012-10-25 18', 7, 0.0, 0.0),\n",
       " ('2012-10-25 19', 8, 0.0, 0.0),\n",
       " ('2012-10-25 20', 15, 0.0, 3.0),\n",
       " ('2012-10-25 21', 13, 0.0, 3.0),\n",
       " ('2012-10-25 22', 9, 0.0, 3.0),\n",
       " ('2012-10-25 23', 9, 0.0, 0.0),\n",
       " ('2012-10-26 00', 18, 0.0, 0.0),\n",
       " ('2012-10-26 01', 4, 0.0, 0.0),\n",
       " ('2012-10-26 02', 4, 0.0, 0.0),\n",
       " ('2012-10-26 03', 3, 0.0, 3.0),\n",
       " ('2012-10-26 04', 5, 0.0, 0.0),\n",
       " ('2012-10-26 05', 1, 0.0, 0.0),\n",
       " ('2012-10-26 06', 1, 0.0, 0.0),\n",
       " ('2012-10-26 07', 7, 0.0, 3.0),\n",
       " ('2012-10-26 08', 7, 0.0, 3.0),\n",
       " ('2012-10-26 09', 13, 0.0, 3.0),\n",
       " ('2012-10-26 10', 5, 0.0, 3.0),\n",
       " ('2012-10-26 11', 13, 0.0, 3.0),\n",
       " ('2012-10-26 12', 8, 0.0, 0.0),\n",
       " ('2012-10-26 13', 8, 0.0, 3.0),\n",
       " ('2012-10-26 14', 9, 0.0, 3.0),\n",
       " ('2012-10-26 15', 4, 0.0, 0.0),\n",
       " ('2012-10-26 16', 4, 0.0, 0.0),\n",
       " ('2012-10-26 17', 7, 0.0, 0.0),\n",
       " ('2012-10-26 18', 8, 0.0, 0.0),\n",
       " ('2012-10-26 19', 9, 0.0, 0.0),\n",
       " ('2012-10-26 20', 17, 0.0, 3.0),\n",
       " ('2012-10-26 21', 5, 0.0, 3.0),\n",
       " ('2012-10-26 22', 13, 0.0, 0.0),\n",
       " ('2012-10-26 23', 8, 0.0, 0.0),\n",
       " ('2012-10-27 00', 8, 0.0, 3.0),\n",
       " ('2012-10-27 01', 6, 0.0, 0.0),\n",
       " ('2012-10-27 02', 9, 0.0, 3.0),\n",
       " ('2012-10-27 03', 8, 0.0, 0.0),\n",
       " ('2012-10-27 04', 2, 0.0, 6.0),\n",
       " ('2012-10-27 05', 3, 0.0, 6.0),\n",
       " ('2012-10-27 06', 3, 0.0, 6.0),\n",
       " ('2012-10-27 07', 14, 0.0, 5.0),\n",
       " ('2012-10-27 08', 6, 0.0, 5.0),\n",
       " ('2012-10-27 09', 11, 0.0, 6.0),\n",
       " ('2012-10-27 10', 14, 0.0, 7.0),\n",
       " ('2012-10-27 11', 28, 0.0, 5.0),\n",
       " ('2012-10-27 12', 6, 0.0, 8.0),\n",
       " ('2012-10-27 13', 9, 0.0, 8.0),\n",
       " ('2012-10-27 14', 6, 0.0, 10.0),\n",
       " ('2012-10-27 15', 10, 0.0, 10.0),\n",
       " ('2012-10-27 16', 13, 0.0, 7.0),\n",
       " ('2012-10-27 17', 15, 0.0, 7.0),\n",
       " ('2012-10-27 18', 11, 0.0, 7.0),\n",
       " ('2012-10-27 19', 45, 0.0, 8.0),\n",
       " ('2012-10-27 20', 12, 0.0, 7.0),\n",
       " ('2012-10-27 21', 16, 0.0, 9.0),\n",
       " ('2012-10-27 22', 17, 0.0, 9.0),\n",
       " ('2012-10-27 23', 11, 0.0, 8.0),\n",
       " ('2012-10-28 00', 8, 0.0, 11.0),\n",
       " ('2012-10-28 01', 14, 0.0, 8.0),\n",
       " ('2012-10-28 02', 5, 0.0, 8.0),\n",
       " ('2012-10-28 03', 8, 0.0, 9.0),\n",
       " ('2012-10-28 04', 11, 0.0, 10.0),\n",
       " ('2012-10-28 05', 2, 0.0, 11.0),\n",
       " ('2012-10-28 06', 0, 0.0, 10.0),\n",
       " ('2012-10-28 07', 4, 0.0, 11.0),\n",
       " ('2012-10-28 08', 3, 0.0, 11.0),\n",
       " ('2012-10-28 09', 8, 0.0, 11.0),\n",
       " ('2012-10-28 10', 7, 0.0, 10.0),\n",
       " ('2012-10-28 11', 7, 0.0, 8.0),\n",
       " ('2012-10-28 12', 6, 0.0, 7.0),\n",
       " ('2012-10-28 13', 9, 0.0, 13.0),\n",
       " ('2012-10-28 14', 8, 0.0, 13.0),\n",
       " ('2012-10-28 15', 7, 0.0, 13.0),\n",
       " ('2012-10-28 16', 6, 0.0, 16.0),\n",
       " ('2012-10-28 17', 12, 0.0, 11.0),\n",
       " ('2012-10-28 18', 7, 0.0, 15.0),\n",
       " ('2012-10-28 19', 3, 0.0, 14.0),\n",
       " ('2012-10-28 20', 8, 0.0, 16.0),\n",
       " ('2012-10-28 21', 5, 0.0, 14.0),\n",
       " ('2012-10-28 22', 4, 0.0, 16.0),\n",
       " ('2012-10-28 23', 3, 0.0, 14.0),\n",
       " ('2012-10-29 00', 2, 0.0, 16.0),\n",
       " ('2012-10-29 01', 1, 0.0, 11.0),\n",
       " ('2012-10-29 02', 1, 0.0, 13.0),\n",
       " ('2012-10-29 03', 1, 0.0, 17.0),\n",
       " ('2012-10-29 04', 1, 0.0, 15.0),\n",
       " ('2012-10-29 05', 0, 0.0, 15.0),\n",
       " ('2012-10-29 06', 1, 0.02, 16.0),\n",
       " ('2012-10-29 07', 2, 0.02, 17.0),\n",
       " ('2012-10-29 08', 1, 0.0, 21.0),\n",
       " ('2012-10-29 09', 2, 0.0, 16.0),\n",
       " ('2012-10-29 10', 2, 0.0, 0.0),\n",
       " ('2012-10-29 11', 12, 0.0, 21.0),\n",
       " ('2012-10-29 12', 30, 0.02, 15.0),\n",
       " ('2012-10-29 13', 3, 0.02, 24.0),\n",
       " ('2012-10-29 14', 12, 0.03, 23.0),\n",
       " ('2012-10-29 15', 4, 0.07, 26.0),\n",
       " ('2012-10-29 16', 0, 0.1, 23.0),\n",
       " ('2012-10-29 17', 4, 0.04, 29.0),\n",
       " ('2012-10-29 18', 6, 0.02, 21.0),\n",
       " ('2012-10-29 19', 0, 0.01, 25.0),\n",
       " ('2012-10-29 20', 0, 0.0, 17.0),\n",
       " ('2012-10-29 21', 2, 0.0, 15.0),\n",
       " ('2012-10-29 22', 0, 0.02, 9.0),\n",
       " ('2012-10-29 23', 0, 0.03, 7.0),\n",
       " ('2012-10-30 00', 2, 0.03, 13.0),\n",
       " ('2012-10-30 01', 0, 0.0, 13.0),\n",
       " ('2012-10-30 02', 0, 0.03, 9.0),\n",
       " ('2012-10-30 03', 0, 0.04, 17.0),\n",
       " ('2012-10-30 04', 1, 0.0, 9.0),\n",
       " ('2012-10-30 05', 0, 0.01, 7.0),\n",
       " ('2012-10-30 06', 0, 0.01, 7.0),\n",
       " ('2012-10-30 07', 0, 0.0, 10.0),\n",
       " ('2012-10-30 08', 4, 0.01, 11.0),\n",
       " ('2012-10-30 09', 12, 0.01, 15.0),\n",
       " ('2012-10-30 10', 12, 0.02, 8.0),\n",
       " ('2012-10-30 11', 4, 0.0, 7.0),\n",
       " ('2012-10-30 12', 4, 0.0, 9.0),\n",
       " ('2012-10-30 13', 12, 0.0, 7.0),\n",
       " ('2012-10-30 14', 6, 0.0, 0.0),\n",
       " ('2012-10-30 15', 5, 0.0, 0.0),\n",
       " ('2012-10-30 16', 12, 0.01, 3.0),\n",
       " ('2012-10-30 17', 12, 0.0, 6.0),\n",
       " ('2012-10-30 18', 5, 0.0, 5.0),\n",
       " ('2012-10-30 19', 7, 0.0, 3.0),\n",
       " ('2012-10-30 20', 4, 0.0, 0.0),\n",
       " ('2012-10-30 21', 3, 0.0, 5.0),\n",
       " ('2012-10-30 22', 8, 0.0, 7.0),\n",
       " ('2012-10-30 23', 10, 0.0, 5.0)]"
      ]
     },
     "execution_count": 48,
     "metadata": {},
     "output_type": "execute_result"
    }
   ],
   "source": [
    "engine.execute(QUERY_6).fetchall()"
   ]
  },
  {
   "cell_type": "code",
   "execution_count": 49,
   "metadata": {},
   "outputs": [],
   "source": [
    "write_query_to_file(QUERY_6, \"hurricane_sandy.sql\")"
   ]
  },
  {
   "cell_type": "markdown",
   "metadata": {},
   "source": [
    "## Part 4: Visualizing the Data\n",
    "\n",
    "_A checklist of requirements to keep you on track. Remove this whole cell before submitting the project. The order of these tasks aren't necessarily the order in which they need to be done. It's okay to do them in an order that makes sense to you._\n",
    "\n",
    "* [ ] Create an appropriate visualization for the first query/question in part 3\n",
    "* [ ] Create a visualization that shows the average distance traveled per month (regardless of year - so group by each month). Include the 90% confidence interval around the mean in the visualization\n",
    "* [ ] Define three lat/long coordinate boxes around the three major New York airports: LGA, JFK, and EWR (you can use bboxfinder to help). Create a visualization that compares what day of the week was most popular for drop offs for each airport.\n",
    "* [ ] Create a heatmap of all hired trips over a map of the area. Consider using KeplerGL or another library that helps generate geospatial visualizations.\n",
    "* [ ] Create a scatter plot that compares tip amount versus distance.\n",
    "* [ ] Create another scatter plot that compares tip amount versus precipitation amount.\n",
    "\n",
    "_Be sure these cells are executed so that the visualizations are rendered when the notebook is submitted._"
   ]
  },
  {
   "cell_type": "markdown",
   "metadata": {},
   "source": [
    "### Visualization 1\n",
    "\n",
    "We are going to visualize what we found in previous questions.\n",
    "\n",
    "\n",
    "We makes use of the `matplotlib` library. There are other libraries, including `pandas` built-in plotting library, kepler for geospatial data representation, `seaborn`, and others._"
   ]
  },
  {
   "cell_type": "markdown",
   "metadata": {},
   "source": [
    "This function is getting the graph for yellow taxi trips in every hour "
   ]
  },
  {
   "cell_type": "code",
   "execution_count": 65,
   "metadata": {},
   "outputs": [],
   "source": [
    "def taxi_trip_by_hour():\n",
    "    # use the function read_sql_query to pull out values needed to plot and make it a dataframe\n",
    "    values = pd.read_sql_query(QUERY_1, engine).sort_values(by=\"time\", ascending=True)\n",
    "    values.plot.bar(x = 'time',title=\"Yellow Taxi Trips per Hour\", xlabel=\"Hour\", ylabel=\"Number of Trips\")\n",
    "    #axes.plot(values)\n",
    "    #axes.set_title(\"Yellow Taxi Trips By Hour\")   \n",
    "    plt.show()"
   ]
  },
  {
   "cell_type": "code",
   "execution_count": 66,
   "metadata": {},
   "outputs": [],
   "source": [
    "# def get_data_for_visual_n():\n",
    "#     # Query SQL database for the data needed.\n",
    "#     # You can put the data queried into a pandas dataframe, if you wish\n",
    "#     raise NotImplemented()"
   ]
  },
  {
   "cell_type": "code",
   "execution_count": 67,
   "metadata": {},
   "outputs": [
    {
     "data": {
      "image/png": "[encoded data removed]",
      "text/plain": [
       "<Figure size 432x288 with 1 Axes>"
      ]
     },
     "metadata": {
      "needs_background": "light"
     },
     "output_type": "display_data"
    }
   ],
   "source": [
    "taxi_trip_by_hour()"
   ]
  },
  {
   "cell_type": "markdown",
   "metadata": {},
   "source": [
    "### Visualization 2\n",
    "This function shows the average distance traveled per month\n",
    "In order to find this for both taxis and Ubers combined, we need to create two querys to get taxi and uber data seperatly from two tables"
   ]
  },
  {
   "cell_type": "code",
   "execution_count": 91,
   "metadata": {},
   "outputs": [],
   "source": [
    "QUERY_taxi = \"\"\"SELECT strftime('%Y-%m', pickup_datetime) AS month, SUM(distance) AS distance\n",
    "                FROM taxi_trips\n",
    "                GROUP BY month\n",
    "             \"\"\"\n",
    "QUERY_uber =  \"\"\"SELECT strftime('%Y-%m', pickup_datetime) AS month, SUM(distance) AS distance\n",
    "                FROM uber_trips\n",
    "               GROUP BY month\n",
    "             \"\"\""
   ]
  },
  {
   "cell_type": "code",
   "execution_count": 144,
   "metadata": {},
   "outputs": [],
   "source": [
    "def average_distance_month():\n",
    "    # use the function read_sql_query to pull out values needed to plot and make it a dataframe\n",
    "    df_taxi = pd.read_sql_query(QUERY_taxi, engine)\n",
    "    df_uber = pd.read_sql_query(QUERY_uber, engine)\n",
    "    \n",
    "    df_taxi['month'] = pd.to_datetime(df_taxi['month'], format='%Y-%m')\n",
    "    df_uber['month'] = pd.to_datetime(df_uber['month'], format='%Y-%m')\n",
    "\n",
    "    taxi_info =df_taxi['distance'].groupby(df_taxi['month'].dt.month).agg(['mean','count','sem'])\n",
    "    uber_info =df_uber['distance'].groupby(df_uber['month'].dt.month).agg(['mean','count','sem'])\n",
    "    taxi_low, taxi_high = st.t.interval(0.90,taxi_info['count']-1 , loc=taxi_info['mean'], scale=taxi_info['sem'])\n",
    "    uber_low, uber_high = st.t.interval(0.90, uber_info['count']-1, loc=uber_info['mean'], scale=uber_info['sem'])\n",
    "    taxi_info['mean'].plot( color='orange', label='Taxi',ylabel = 'Average Distance')\n",
    "    uber_info['mean'].plot( color='purple', label='Uber',ylabel = 'Average Distance')\n",
    "    plt.fill_between(taxi_info.index, taxi_low, taxi_high, color='orange', alpha=0.2)\n",
    "    plt.fill_between(uber_info.index, uber_low, uber_high, color='purple', alpha=0.2)\n",
    "    plt.title('Average Distance per Month')\n",
    "    plt.legend()\n",
    "\n",
    "   \n",
    "    plt.show()"
   ]
  },
  {
   "cell_type": "code",
   "execution_count": 145,
   "metadata": {},
   "outputs": [
    {
     "data": {
      "image/png": "[encoded data removed]",
      "text/plain": [
       "<Figure size 432x288 with 1 Axes>"
      ]
     },
     "metadata": {
      "needs_background": "light"
     },
     "output_type": "display_data"
    }
   ],
   "source": [
    "average_distance_month()"
   ]
  },
  {
   "cell_type": "markdown",
   "metadata": {},
   "source": [
    "### Visualization 3\n",
    "\n",
    "We found three lat/long coordinate boxes around the three major New York airports: LGA, JFK, and EWR.\n",
    "Created a visualization that compares what day of the week was most popular for drop offs for each airport.\n"
   ]
  },
  {
   "cell_type": "code",
   "execution_count": 252,
   "metadata": {},
   "outputs": [],
   "source": [
    "EWR = [-74.192390,40.670047,-74.153337,40.707844,'EWR']\n",
    "JFK=  [ -73.823776,40.620946,-73.747559,40.665083,'JFK']\n",
    "LGA = [  -73.889329,40.766710,-73.854761,40.786449,'LGA']"
   ]
  },
  {
   "cell_type": "code",
   "execution_count": 253,
   "metadata": {},
   "outputs": [],
   "source": [
    "df = []\n",
    "for place in [EWR,JFK,LGA]:\n",
    "    query_place = f'''WITH trips AS (SELECT pickup_datetime, dropoff_longitude, dropoff_latitude FROM taxi_trips\n",
    "                UNION ALL SELECT pickup_datetime,dropoff_longitude,dropoff_latitude FROM uber_trips)\n",
    "\n",
    "                    SELECT strftime('%w', pickup_datetime) AS day ,COUNT(*) AS {place[4]}\n",
    "                    FROM trips\n",
    "                    WHERE dropoff_longitude BETWEEN {place[0]} AND {place[2]} AND dropoff_latitude BETWEEN {place[1]} AND {place[3]}\n",
    "                    GROUP BY day\n",
    "          '''\n",
    "    df.append(pd.read_sql_query(query_place, engine))\n",
    "\n",
    "\n"
   ]
  },
  {
   "cell_type": "code",
   "execution_count": 254,
   "metadata": {},
   "outputs": [
    {
     "data": {
      "text/plain": [
       "<AxesSubplot:title={'center':'Dropoffs for Each Airport in Each Day of a Week'}, xlabel='Day', ylabel='Number of Dropoffs'>"
      ]
     },
     "execution_count": 254,
     "metadata": {},
     "output_type": "execute_result"
    },
    {
     "data": {
      "image/png": "[encoded data removed]",
      "text/plain": [
       "<Figure size 432x288 with 1 Axes>"
      ]
     },
     "metadata": {
      "needs_background": "light"
     },
     "output_type": "display_data"
    }
   ],
   "source": [
    "JFK = df[1]['JFK']\n",
    "EWR =df[0]['EWR']\n",
    "LGA =df[2]['LGA']\n",
    "df[0]['JFK'] = df[1]['JFK']\n",
    "df[0]['LGA'] = df[2]['LGA']\n",
    "\n",
    "df[0].plot(x=\"day\", y=['EWR','JFK','LGA'], kind=\"bar\", title=\"Dropoffs for Each Airport in Each Day of a Week\", xlabel=\"Day\", ylabel=\"Number of Dropoffs\")"
   ]
  },
  {
   "cell_type": "markdown",
   "metadata": {},
   "source": [
    "### Visualization 4\n",
    "Create a heatmap of all hired trips over a map of the area. "
   ]
  },
  {
   "cell_type": "code",
   "execution_count": 368,
   "metadata": {},
   "outputs": [
    {
     "name": "stderr",
     "output_type": "stream",
     "text": [
      "/Users/wangyanyi/opt/anaconda3/lib/python3.8/site-packages/geopandas/geodataframe.py:2061: UserWarning: CRS mismatch between the CRS of left geometries and the CRS of right geometries.\n",
      "Use `to_crs()` to reproject one of the input geometries to match the CRS of the other.\n",
      "\n",
      "Left CRS: EPSG:4326\n",
      "Right CRS: None\n",
      "\n",
      "  return geopandas.sjoin(left_df=self, right_df=df, *args, **kwargs)\n"
     ]
    }
   ],
   "source": [
    "query = '''SELECT pickup_longitude, pickup_latitude\n",
    "           FROM taxi_trips\n",
    "           UNION ALL\n",
    "           SELECT pickup_longitude, pickup_latitude\n",
    "           FROM uber_trips\n",
    "        '''\n",
    "df = pd.read_sql_query(query, engine)\n",
    "zones = taxi_zones_df.copy()\n",
    "zones = zones[['LocationID','geometry']]\n",
    "df = gpd.GeoDataFrame(df, geometry=gpd.points_from_xy(df.pickup_longitude, df.pickup_latitude))\n",
    "result = zones.sjoin(df, how='left')\n",
    "result = result.set_index('LocationID')"
   ]
  },
  {
   "cell_type": "code",
   "execution_count": 371,
   "metadata": {},
   "outputs": [
    {
     "data": {
      "text/html": [
       "<div>\n",
       "<style scoped>\n",
       "    .dataframe tbody tr th:only-of-type {\n",
       "        vertical-align: middle;\n",
       "    }\n",
       "\n",
       "    .dataframe tbody tr th {\n",
       "        vertical-align: top;\n",
       "    }\n",
       "\n",
       "    .dataframe thead th {\n",
       "        text-align: right;\n",
       "    }\n",
       "</style>\n",
       "<table border=\"1\" class=\"dataframe\">\n",
       "  <thead>\n",
       "    <tr style=\"text-align: right;\">\n",
       "      <th></th>\n",
       "      <th>geometry</th>\n",
       "      <th>index_right</th>\n",
       "      <th>pickup_longitude</th>\n",
       "      <th>pickup_latitude</th>\n",
       "    </tr>\n",
       "    <tr>\n",
       "      <th>LocationID</th>\n",
       "      <th></th>\n",
       "      <th></th>\n",
       "      <th></th>\n",
       "      <th></th>\n",
       "    </tr>\n",
       "  </thead>\n",
       "  <tbody>\n",
       "    <tr>\n",
       "      <th>1</th>\n",
       "      <td>POLYGON ((-74.18445 40.69500, -74.18449 40.695...</td>\n",
       "      <td>384894.0</td>\n",
       "      <td>-74.183084</td>\n",
       "      <td>40.687889</td>\n",
       "    </tr>\n",
       "    <tr>\n",
       "      <th>1</th>\n",
       "      <td>POLYGON ((-74.18445 40.69500, -74.18449 40.695...</td>\n",
       "      <td>51429.0</td>\n",
       "      <td>-74.183013</td>\n",
       "      <td>40.687921</td>\n",
       "    </tr>\n",
       "    <tr>\n",
       "      <th>1</th>\n",
       "      <td>POLYGON ((-74.18445 40.69500, -74.18449 40.695...</td>\n",
       "      <td>232013.0</td>\n",
       "      <td>-74.183547</td>\n",
       "      <td>40.688582</td>\n",
       "    </tr>\n",
       "    <tr>\n",
       "      <th>1</th>\n",
       "      <td>POLYGON ((-74.18445 40.69500, -74.18449 40.695...</td>\n",
       "      <td>84514.0</td>\n",
       "      <td>-74.183644</td>\n",
       "      <td>40.688645</td>\n",
       "    </tr>\n",
       "    <tr>\n",
       "      <th>1</th>\n",
       "      <td>POLYGON ((-74.18445 40.69500, -74.18449 40.695...</td>\n",
       "      <td>36830.0</td>\n",
       "      <td>-74.183832</td>\n",
       "      <td>40.688960</td>\n",
       "    </tr>\n",
       "    <tr>\n",
       "      <th>...</th>\n",
       "      <td>...</td>\n",
       "      <td>...</td>\n",
       "      <td>...</td>\n",
       "      <td>...</td>\n",
       "    </tr>\n",
       "    <tr>\n",
       "      <th>263</th>\n",
       "      <td>POLYGON ((-73.95219 40.77302, -73.95269 40.772...</td>\n",
       "      <td>205412.0</td>\n",
       "      <td>-73.954938</td>\n",
       "      <td>40.773308</td>\n",
       "    </tr>\n",
       "    <tr>\n",
       "      <th>263</th>\n",
       "      <td>POLYGON ((-73.95219 40.77302, -73.95269 40.772...</td>\n",
       "      <td>140120.0</td>\n",
       "      <td>-73.954992</td>\n",
       "      <td>40.773313</td>\n",
       "    </tr>\n",
       "    <tr>\n",
       "      <th>263</th>\n",
       "      <td>POLYGON ((-73.95219 40.77302, -73.95269 40.772...</td>\n",
       "      <td>261744.0</td>\n",
       "      <td>-73.954796</td>\n",
       "      <td>40.773319</td>\n",
       "    </tr>\n",
       "    <tr>\n",
       "      <th>263</th>\n",
       "      <td>POLYGON ((-73.95219 40.77302, -73.95269 40.772...</td>\n",
       "      <td>314517.0</td>\n",
       "      <td>-73.954914</td>\n",
       "      <td>40.773341</td>\n",
       "    </tr>\n",
       "    <tr>\n",
       "      <th>263</th>\n",
       "      <td>POLYGON ((-73.95219 40.77302, -73.95269 40.772...</td>\n",
       "      <td>166528.0</td>\n",
       "      <td>-73.954917</td>\n",
       "      <td>40.773349</td>\n",
       "    </tr>\n",
       "  </tbody>\n",
       "</table>\n",
       "<p>394709 rows × 4 columns</p>\n",
       "</div>"
      ],
      "text/plain": [
       "                                                     geometry  index_right  \\\n",
       "LocationID                                                                   \n",
       "1           POLYGON ((-74.18445 40.69500, -74.18449 40.695...     384894.0   \n",
       "1           POLYGON ((-74.18445 40.69500, -74.18449 40.695...      51429.0   \n",
       "1           POLYGON ((-74.18445 40.69500, -74.18449 40.695...     232013.0   \n",
       "1           POLYGON ((-74.18445 40.69500, -74.18449 40.695...      84514.0   \n",
       "1           POLYGON ((-74.18445 40.69500, -74.18449 40.695...      36830.0   \n",
       "...                                                       ...          ...   \n",
       "263         POLYGON ((-73.95219 40.77302, -73.95269 40.772...     205412.0   \n",
       "263         POLYGON ((-73.95219 40.77302, -73.95269 40.772...     140120.0   \n",
       "263         POLYGON ((-73.95219 40.77302, -73.95269 40.772...     261744.0   \n",
       "263         POLYGON ((-73.95219 40.77302, -73.95269 40.772...     314517.0   \n",
       "263         POLYGON ((-73.95219 40.77302, -73.95269 40.772...     166528.0   \n",
       "\n",
       "            pickup_longitude  pickup_latitude  \n",
       "LocationID                                     \n",
       "1                 -74.183084        40.687889  \n",
       "1                 -74.183013        40.687921  \n",
       "1                 -74.183547        40.688582  \n",
       "1                 -74.183644        40.688645  \n",
       "1                 -74.183832        40.688960  \n",
       "...                      ...              ...  \n",
       "263               -73.954938        40.773308  \n",
       "263               -73.954992        40.773313  \n",
       "263               -73.954796        40.773319  \n",
       "263               -73.954914        40.773341  \n",
       "263               -73.954917        40.773349  \n",
       "\n",
       "[394709 rows x 4 columns]"
      ]
     },
     "execution_count": 371,
     "metadata": {},
     "output_type": "execute_result"
    }
   ],
   "source": [
    "result"
   ]
  },
  {
   "cell_type": "code",
   "execution_count": 379,
   "metadata": {},
   "outputs": [],
   "source": [
    "result['num'] = result.groupby('LocationID')['geometry'].count()\n",
    "result['log_num'] = np.log(result['num'])"
   ]
  },
  {
   "cell_type": "code",
   "execution_count": 380,
   "metadata": {},
   "outputs": [
    {
     "data": {
      "image/png": "[encoded data removed]",
      "text/plain": [
       "<Figure size 432x288 with 2 Axes>"
      ]
     },
     "metadata": {
      "needs_background": "light"
     },
     "output_type": "display_data"
    }
   ],
   "source": [
    "\n",
    "result.plot(column='log_num', cmap='plasma', legend=True, legend_kwds={'label': \"number of trips in different area\"})\n",
    "plt.axis('off')\n",
    "plt.show()"
   ]
  },
  {
   "cell_type": "code",
   "execution_count": null,
   "metadata": {},
   "outputs": [],
   "source": []
  },
  {
   "cell_type": "code",
   "execution_count": null,
   "metadata": {},
   "outputs": [],
   "source": []
  },
  {
   "cell_type": "markdown",
   "metadata": {},
   "source": [
    "### Visualization 5\n",
    "CreateD a scatter plot that compares tip amount versus distance."
   ]
  },
  {
   "cell_type": "code",
   "execution_count": 307,
   "metadata": {},
   "outputs": [
    {
     "data": {
      "text/plain": [
       "<AxesSubplot:title={'center':'Tip Amount with Distance'}, xlabel='distance', ylabel='tip_amount'>"
      ]
     },
     "execution_count": 307,
     "metadata": {},
     "output_type": "execute_result"
    },
    {
     "data": {
      "image/png": "[encoded data removed]",
      "text/plain": [
       "<Figure size 432x288 with 1 Axes>"
      ]
     },
     "metadata": {
      "needs_background": "light"
     },
     "output_type": "display_data"
    }
   ],
   "source": [
    "QUERY = \"\"\" SELECT tip_amount,distance\n",
    "            FROM taxi_trips      \n",
    "        \"\"\"\n",
    "df = pd.read_sql_query(QUERY, engine)\n",
    "    \n",
    "# sample the data to make the scatter plot clearer\n",
    "df =df.sample(500)\n",
    "df = df[df['distance'] < 100]\n",
    "df =df[df['tip_amount'] > 0]\n",
    "df.plot(x=\"distance\", y=\"tip_amount\", kind=\"scatter\", title=\"Tip Amount with Distance\", xlabel=\"Distance\", ylabel=\"Tip Amount\")\n"
   ]
  },
  {
   "cell_type": "markdown",
   "metadata": {},
   "source": [
    "### Visualization 5\n",
    "Created another scatter plot that compares tip amount versus precipitation amount for Yellow Taxi rides. You may remove any outliers how you see fit."
   ]
  },
  {
   "cell_type": "code",
   "execution_count": 322,
   "metadata": {},
   "outputs": [],
   "source": [
    "query_tip =\"\"\"SELECT strftime('%Y-%m-%d %H', pickup_datetime) AS DATE, tip_amount\n",
    "            FROM taxi_trips\n",
    "            \"\"\" \n",
    "query_precipitation =\"\"\"SELECT strftime('%Y-%m-%d %H', datetime) as DATE, hourly_precipitation\n",
    "            FROM hourly_weather\n",
    "            \"\"\""
   ]
  },
  {
   "cell_type": "code",
   "execution_count": 342,
   "metadata": {},
   "outputs": [],
   "source": [
    "df_tip = pd.read_sql_query(query_tip, engine)\n",
    "df_precipitation =pd.read_sql_query(query_precipitation, engine)\n",
    "df = df_tip.merge(df_precipitation,on = 'DATE').sample(2000)\n",
    "df = df[df['hourly_precipitation'] >0]\n",
    "df =df[df['tip_amount'] > 0]\n"
   ]
  },
  {
   "cell_type": "code",
   "execution_count": 351,
   "metadata": {},
   "outputs": [
    {
     "data": {
      "text/plain": [
       "<AxesSubplot:title={'center':'Tip Amount and Precipitation'}, xlabel='tip_amount', ylabel='hourly_precipitation'>"
      ]
     },
     "execution_count": 351,
     "metadata": {},
     "output_type": "execute_result"
    },
    {
     "data": {
      "image/png": "[encoded data removed]",
      "text/plain": [
       "<Figure size 432x288 with 1 Axes>"
      ]
     },
     "metadata": {
      "needs_background": "light"
     },
     "output_type": "display_data"
    }
   ],
   "source": [
    "df.plot(x=\"tip_amount\", y=\"hourly_precipitation\", kind=\"scatter\", title=\"Tip Amount and Precipitation\", \n",
    "        xlabel=\"Tip Amount\", ylabel=\"Hourly Precipitation\")"
   ]
  },
  {
   "cell_type": "code",
   "execution_count": null,
   "metadata": {},
   "outputs": [],
   "source": []
  }
 ],
 "metadata": {
  "kernelspec": {
   "display_name": "Python 3",
   "language": "python",
   "name": "python3"
  },
  "language_info": {
   "codemirror_mode": {
    "name": "ipython",
    "version": 3
   },
   "file_extension": ".py",
   "mimetype": "text/x-python",
   "name": "python",
   "nbconvert_exporter": "python",
   "pygments_lexer": "ipython3",
   "version": "3.8.5"
  }
 },
 "nbformat": 4,
 "nbformat_minor": 5
}
